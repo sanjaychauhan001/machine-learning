{
 "cells": [
  {
   "cell_type": "code",
   "execution_count": 1,
   "metadata": {},
   "outputs": [],
   "source": [
    "import pandas as pd \n",
    "import numpy as np"
   ]
  },
  {
   "cell_type": "code",
   "execution_count": 40,
   "metadata": {},
   "outputs": [
    {
     "data": {
      "text/plain": [
       "(10, 1)"
      ]
     },
     "execution_count": 40,
     "metadata": {},
     "output_type": "execute_result"
    }
   ],
   "source": [
    "x = np.random.randn(10,1)\n",
    "x.shape"
   ]
  },
  {
   "cell_type": "code",
   "execution_count": 41,
   "metadata": {},
   "outputs": [
    {
     "data": {
      "text/plain": [
       "(10, 1)"
      ]
     },
     "execution_count": 41,
     "metadata": {},
     "output_type": "execute_result"
    }
   ],
   "source": [
    "y = 5*x + np.random.randn()\n",
    "y.shape"
   ]
  },
  {
   "cell_type": "code",
   "execution_count": 42,
   "metadata": {},
   "outputs": [
    {
     "data": {
      "text/html": [
       "<div>\n",
       "<style scoped>\n",
       "    .dataframe tbody tr th:only-of-type {\n",
       "        vertical-align: middle;\n",
       "    }\n",
       "\n",
       "    .dataframe tbody tr th {\n",
       "        vertical-align: top;\n",
       "    }\n",
       "\n",
       "    .dataframe thead th {\n",
       "        text-align: right;\n",
       "    }\n",
       "</style>\n",
       "<table border=\"1\" class=\"dataframe\">\n",
       "  <thead>\n",
       "    <tr style=\"text-align: right;\">\n",
       "      <th></th>\n",
       "      <th>x</th>\n",
       "      <th>y</th>\n",
       "    </tr>\n",
       "  </thead>\n",
       "  <tbody>\n",
       "    <tr>\n",
       "      <th>0</th>\n",
       "      <td>0.423479</td>\n",
       "      <td>2.526588</td>\n",
       "    </tr>\n",
       "    <tr>\n",
       "      <th>1</th>\n",
       "      <td>-0.749195</td>\n",
       "      <td>-3.336784</td>\n",
       "    </tr>\n",
       "    <tr>\n",
       "      <th>2</th>\n",
       "      <td>-1.573127</td>\n",
       "      <td>-7.456445</td>\n",
       "    </tr>\n",
       "    <tr>\n",
       "      <th>3</th>\n",
       "      <td>0.096792</td>\n",
       "      <td>0.893150</td>\n",
       "    </tr>\n",
       "    <tr>\n",
       "      <th>4</th>\n",
       "      <td>0.606052</td>\n",
       "      <td>3.439452</td>\n",
       "    </tr>\n",
       "    <tr>\n",
       "      <th>5</th>\n",
       "      <td>-0.302680</td>\n",
       "      <td>-1.104209</td>\n",
       "    </tr>\n",
       "    <tr>\n",
       "      <th>6</th>\n",
       "      <td>1.993078</td>\n",
       "      <td>10.374580</td>\n",
       "    </tr>\n",
       "    <tr>\n",
       "      <th>7</th>\n",
       "      <td>-1.125518</td>\n",
       "      <td>-5.218398</td>\n",
       "    </tr>\n",
       "    <tr>\n",
       "      <th>8</th>\n",
       "      <td>-0.025144</td>\n",
       "      <td>0.283473</td>\n",
       "    </tr>\n",
       "    <tr>\n",
       "      <th>9</th>\n",
       "      <td>-2.341207</td>\n",
       "      <td>-11.296845</td>\n",
       "    </tr>\n",
       "  </tbody>\n",
       "</table>\n",
       "</div>"
      ],
      "text/plain": [
       "          x          y\n",
       "0  0.423479   2.526588\n",
       "1 -0.749195  -3.336784\n",
       "2 -1.573127  -7.456445\n",
       "3  0.096792   0.893150\n",
       "4  0.606052   3.439452\n",
       "5 -0.302680  -1.104209\n",
       "6  1.993078  10.374580\n",
       "7 -1.125518  -5.218398\n",
       "8 -0.025144   0.283473\n",
       "9 -2.341207 -11.296845"
      ]
     },
     "execution_count": 42,
     "metadata": {},
     "output_type": "execute_result"
    }
   ],
   "source": [
    "df = pd.DataFrame({'x':x.flatten(),\n",
    " 'y':y.flatten()})\n",
    "df"
   ]
  },
  {
   "cell_type": "code",
   "execution_count": 81,
   "metadata": {},
   "outputs": [
    {
     "name": "stdout",
     "output_type": "stream",
     "text": [
      "0 m is 1.4159365178414949, b is -0.21790879654050133, loss 3.2923152100031485\n",
      "1 m is 2.4108875059545096, b is -0.3073513171557008, loss 2.378354760452363\n",
      "2 m is 3.1138376104351613, b is -0.3192586386021475, loss 1.7641350211718219\n",
      "3 m is 3.613558559566555, b is -0.28664307269902956, loss 1.3288201080446427\n",
      "4 m is 3.9712684607850446, b is -0.23059265881371982, loss 1.010672578140762\n",
      "5 m is 4.229284671035364, b is -0.16430784084358477, loss 0.7760215837362843\n",
      "6 m is 4.416941835593942, b is -0.09581207458687338, loss 0.6149365341357664\n",
      "7 m is 4.554642479455155, b is -0.02976553088009637, loss 0.4909950843052829\n",
      "8 m is 4.656631919503002, b is 0.03132677233503395, loss 0.39432684452914335\n",
      "9 m is 4.732901315900982, b is 0.086314818622795, loss 0.32276612276945216\n",
      "10 m is 4.790494498267054, b is 0.13487755869367798, loss 0.26580406377855814\n",
      "11 m is 4.834406768357142, b is 0.17718042633575806, loss 0.2192074497959446\n",
      "12 m is 4.868204231877559, b is 0.21365523382356932, loss 0.18099433667340045\n",
      "13 m is 4.8944515097268235, b is 0.24486121680348472, loss 0.14959016352228613\n",
      "14 m is 4.915007898158413, b is 0.2713995112258626, loss 0.12455351218924693\n",
      "15 m is 4.931233080086403, b is 0.2938624895089544, loss 0.10384927525484296\n",
      "16 m is 4.944130535046365, b is 0.3128055617353, loss 0.08652166693775892\n",
      "17 m is 4.954447943185466, b is 0.32873321394711086, loss 0.07204111839362455\n",
      "18 m is 4.962747826525413, b is 0.34209385793955094, loss 0.05995411830594777\n",
      "19 m is 4.969457530188739, b is 0.3532799459952896, loss 0.04987469953552979\n",
      "20 m is 4.97490481123958, b is 0.36263105901568077, loss 0.04147597209073615\n",
      "21 m is 4.979343359744176, b is 0.37043851055465155, loss 0.03448213974143566\n",
      "22 m is 4.982971243390058, b is 0.3769505600175725, loss 0.028661221642575237\n",
      "23 m is 4.985944350859357, b is 0.3823776889638409, loss 0.02381856615732449\n",
      "24 m is 4.988386278565411, b is 0.3868976280708452, loss 0.019791163424921827\n",
      "25 m is 4.990395670448727, b is 0.3906599714088682, loss 0.016442717225326996\n",
      "26 m is 4.992051719848739, b is 0.3937903078772278, loss 0.013659412795043563\n",
      "27 m is 4.993418333999399, b is 0.3963938561869917, loss 0.011346307146243278\n",
      "28 m is 4.994547316675839, b is 0.39855862250607854, loss 0.00942426669215241\n",
      "29 m is 4.995480823240257, b is 0.4003581173730333, loss 0.007827380054241884\n",
      "30 m is 4.996253271282457, b is 0.4018536764065268, loss 0.006500779562158943\n",
      "31 m is 4.996892839942477, b is 0.40309643141467194, loss 0.005398811738622428\n",
      "32 m is 4.9974226554549634, b is 0.40412897716593804, loss 0.004483504124954335\n",
      "33 m is 4.997861735067873, b is 0.4049867758785336, loss 0.003723282644444453\n",
      "34 m is 4.998225743222642, b is 0.4056993373992531, loss 0.003091900047050328\n",
      "35 m is 4.998527600634802, b is 0.40629120867908725, loss 0.0025675417021653268\n",
      "36 m is 4.998777977220901, b is 0.4067828018677159, loss 0.0021320800675332873\n",
      "37 m is 4.998985692660172, b is 0.4071910863397668, loss 0.001770453575797526\n",
      "38 m is 4.9991580430435425, b is 0.4075301663292454, loss 0.0014701494883843703\n",
      "39 m is 4.999301068046043, b is 0.4078117626194849, loss 0.0012207735264575027\n",
      "40 m is 4.999419770005597, b is 0.4080456139119264, loss 0.0010136918623155078\n",
      "41 m is 4.999518293948469, b is 0.4082398110547809, loss 0.0008417334031619817\n",
      "42 m is 4.999600075787355, b is 0.40840107521837254, loss 0.0006989422802628654\n",
      "43 m is 4.99966796450101, b is 0.4085349893197969, loss 0.0005803721226220804\n",
      "44 m is 4.9997243229885004, b is 0.4086461904872412, loss 0.0004819150921359927\n",
      "45 m is 4.999771111406114, b is 0.4087385300775895, loss 0.00040015982769672775\n",
      "46 m is 4.9998099560884155, b is 0.40881520668650356, loss 0.00033227342430585673\n",
      "47 m is 4.999842206587466, b is 0.40887887668826206, loss 0.00027590339040838295\n",
      "48 m is 4.999868982906213, b is 0.4089317460870974, loss 0.00022909620825500298\n",
      "49 m is 4.999891214630678, b is 0.408975646829878, loss 0.00019022969019613645\n",
      "0.08546686172485352\n"
     ]
    }
   ],
   "source": [
    "import pandas as pd \n",
    "import numpy as np\n",
    "from sklearn.metrics import mean_absolute_error\n",
    "\n",
    "\n",
    "import time\n",
    "start =time.time()\n",
    "x = df['x']\n",
    "y = df['y']\n",
    "\n",
    "b = 0\n",
    "m = 0\n",
    "n = x.shape[0]\n",
    "learning_rate = 0.1\n",
    "for i in range(50):\n",
    "    b_gradient = -2 * np.sum(y - m*x - b) / n\n",
    "    m_gradient = -2 * np.sum(x*(y - (m*x + b))) / n\n",
    "    b = b - (learning_rate * b_gradient)\n",
    "    m = m - (learning_rate * m_gradient)\n",
    "    yhat = m*x+b\n",
    "    # loss = sum((y - yhat)**2) / n\n",
    "    loss = mean_absolute_error(y,yhat)\n",
    "    print(f'{i} m is {m}, b is {b}, loss {loss}')\n",
    "\n",
    "end = time.time()\n",
    "print(end-start)"
   ]
  },
  {
   "cell_type": "code",
   "execution_count": 82,
   "metadata": {},
   "outputs": [
    {
     "name": "stdout",
     "output_type": "stream",
     "text": [
      "[4.99999751] [-0.06892016]\n",
      "0.006251096725463867\n"
     ]
    }
   ],
   "source": [
    "import time\n",
    "start = time.time()\n",
    "\n",
    "x = np.random.randn(10,1)\n",
    "y = 5*x + np.random.randn()\n",
    "b = 0\n",
    "m = 0\n",
    "n = x.shape[0]\n",
    "lr = 0.1\n",
    "for i in range(50):\n",
    "    b_counter = 0\n",
    "    m_counter = 0\n",
    "    for j in range(n):\n",
    "        beta = y[j] - m*x[j] -  b\n",
    "        b_counter = b_counter + beta\n",
    "\n",
    "        slope = (y[j] - m*x[j] -  b)*x[j]\n",
    "        m_counter = m_counter + slope\n",
    "        \n",
    "    b_grad = -2*b_counter/n\n",
    "    m_grad = -2*m_counter/n\n",
    "\n",
    "    b = b - (lr * b_grad)\n",
    "    m = m - (lr * m_grad)\n",
    "print(m,b)\n",
    "end = time.time()\n",
    "print(end-start)"
   ]
  }
 ],
 "metadata": {
  "kernelspec": {
   "display_name": "Python 3",
   "language": "python",
   "name": "python3"
  },
  "language_info": {
   "codemirror_mode": {
    "name": "ipython",
    "version": 3
   },
   "file_extension": ".py",
   "mimetype": "text/x-python",
   "name": "python",
   "nbconvert_exporter": "python",
   "pygments_lexer": "ipython3",
   "version": "3.12.3"
  }
 },
 "nbformat": 4,
 "nbformat_minor": 2
}
