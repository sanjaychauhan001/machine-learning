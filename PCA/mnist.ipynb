{
 "cells": [
  {
   "cell_type": "code",
   "execution_count": 36,
   "metadata": {},
   "outputs": [],
   "source": [
    "import pandas as pd\n",
    "import numpy as np\n",
    "import matplotlib.pyplot as plt\n",
    "from sklearn.decomposition import PCA\n",
    "from sklearn.preprocessing import StandardScaler\n",
    "from sklearn.neighbors import KNeighborsClassifier\n",
    "from sklearn.model_selection import train_test_split \n",
    "from sklearn.metrics import accuracy_score"
   ]
  },
  {
   "cell_type": "code",
   "execution_count": 2,
   "metadata": {},
   "outputs": [
    {
     "data": {
      "text/html": [
       "<div>\n",
       "<style scoped>\n",
       "    .dataframe tbody tr th:only-of-type {\n",
       "        vertical-align: middle;\n",
       "    }\n",
       "\n",
       "    .dataframe tbody tr th {\n",
       "        vertical-align: top;\n",
       "    }\n",
       "\n",
       "    .dataframe thead th {\n",
       "        text-align: right;\n",
       "    }\n",
       "</style>\n",
       "<table border=\"1\" class=\"dataframe\">\n",
       "  <thead>\n",
       "    <tr style=\"text-align: right;\">\n",
       "      <th></th>\n",
       "      <th>label</th>\n",
       "      <th>pixel0</th>\n",
       "      <th>pixel1</th>\n",
       "      <th>pixel2</th>\n",
       "      <th>pixel3</th>\n",
       "      <th>pixel4</th>\n",
       "      <th>pixel5</th>\n",
       "      <th>pixel6</th>\n",
       "      <th>pixel7</th>\n",
       "      <th>pixel8</th>\n",
       "      <th>...</th>\n",
       "      <th>pixel774</th>\n",
       "      <th>pixel775</th>\n",
       "      <th>pixel776</th>\n",
       "      <th>pixel777</th>\n",
       "      <th>pixel778</th>\n",
       "      <th>pixel779</th>\n",
       "      <th>pixel780</th>\n",
       "      <th>pixel781</th>\n",
       "      <th>pixel782</th>\n",
       "      <th>pixel783</th>\n",
       "    </tr>\n",
       "  </thead>\n",
       "  <tbody>\n",
       "    <tr>\n",
       "      <th>0</th>\n",
       "      <td>1</td>\n",
       "      <td>0</td>\n",
       "      <td>0</td>\n",
       "      <td>0</td>\n",
       "      <td>0</td>\n",
       "      <td>0</td>\n",
       "      <td>0</td>\n",
       "      <td>0</td>\n",
       "      <td>0</td>\n",
       "      <td>0</td>\n",
       "      <td>...</td>\n",
       "      <td>0</td>\n",
       "      <td>0</td>\n",
       "      <td>0</td>\n",
       "      <td>0</td>\n",
       "      <td>0</td>\n",
       "      <td>0</td>\n",
       "      <td>0</td>\n",
       "      <td>0</td>\n",
       "      <td>0</td>\n",
       "      <td>0</td>\n",
       "    </tr>\n",
       "    <tr>\n",
       "      <th>1</th>\n",
       "      <td>0</td>\n",
       "      <td>0</td>\n",
       "      <td>0</td>\n",
       "      <td>0</td>\n",
       "      <td>0</td>\n",
       "      <td>0</td>\n",
       "      <td>0</td>\n",
       "      <td>0</td>\n",
       "      <td>0</td>\n",
       "      <td>0</td>\n",
       "      <td>...</td>\n",
       "      <td>0</td>\n",
       "      <td>0</td>\n",
       "      <td>0</td>\n",
       "      <td>0</td>\n",
       "      <td>0</td>\n",
       "      <td>0</td>\n",
       "      <td>0</td>\n",
       "      <td>0</td>\n",
       "      <td>0</td>\n",
       "      <td>0</td>\n",
       "    </tr>\n",
       "    <tr>\n",
       "      <th>2</th>\n",
       "      <td>1</td>\n",
       "      <td>0</td>\n",
       "      <td>0</td>\n",
       "      <td>0</td>\n",
       "      <td>0</td>\n",
       "      <td>0</td>\n",
       "      <td>0</td>\n",
       "      <td>0</td>\n",
       "      <td>0</td>\n",
       "      <td>0</td>\n",
       "      <td>...</td>\n",
       "      <td>0</td>\n",
       "      <td>0</td>\n",
       "      <td>0</td>\n",
       "      <td>0</td>\n",
       "      <td>0</td>\n",
       "      <td>0</td>\n",
       "      <td>0</td>\n",
       "      <td>0</td>\n",
       "      <td>0</td>\n",
       "      <td>0</td>\n",
       "    </tr>\n",
       "    <tr>\n",
       "      <th>3</th>\n",
       "      <td>4</td>\n",
       "      <td>0</td>\n",
       "      <td>0</td>\n",
       "      <td>0</td>\n",
       "      <td>0</td>\n",
       "      <td>0</td>\n",
       "      <td>0</td>\n",
       "      <td>0</td>\n",
       "      <td>0</td>\n",
       "      <td>0</td>\n",
       "      <td>...</td>\n",
       "      <td>0</td>\n",
       "      <td>0</td>\n",
       "      <td>0</td>\n",
       "      <td>0</td>\n",
       "      <td>0</td>\n",
       "      <td>0</td>\n",
       "      <td>0</td>\n",
       "      <td>0</td>\n",
       "      <td>0</td>\n",
       "      <td>0</td>\n",
       "    </tr>\n",
       "    <tr>\n",
       "      <th>4</th>\n",
       "      <td>0</td>\n",
       "      <td>0</td>\n",
       "      <td>0</td>\n",
       "      <td>0</td>\n",
       "      <td>0</td>\n",
       "      <td>0</td>\n",
       "      <td>0</td>\n",
       "      <td>0</td>\n",
       "      <td>0</td>\n",
       "      <td>0</td>\n",
       "      <td>...</td>\n",
       "      <td>0</td>\n",
       "      <td>0</td>\n",
       "      <td>0</td>\n",
       "      <td>0</td>\n",
       "      <td>0</td>\n",
       "      <td>0</td>\n",
       "      <td>0</td>\n",
       "      <td>0</td>\n",
       "      <td>0</td>\n",
       "      <td>0</td>\n",
       "    </tr>\n",
       "    <tr>\n",
       "      <th>...</th>\n",
       "      <td>...</td>\n",
       "      <td>...</td>\n",
       "      <td>...</td>\n",
       "      <td>...</td>\n",
       "      <td>...</td>\n",
       "      <td>...</td>\n",
       "      <td>...</td>\n",
       "      <td>...</td>\n",
       "      <td>...</td>\n",
       "      <td>...</td>\n",
       "      <td>...</td>\n",
       "      <td>...</td>\n",
       "      <td>...</td>\n",
       "      <td>...</td>\n",
       "      <td>...</td>\n",
       "      <td>...</td>\n",
       "      <td>...</td>\n",
       "      <td>...</td>\n",
       "      <td>...</td>\n",
       "      <td>...</td>\n",
       "      <td>...</td>\n",
       "    </tr>\n",
       "    <tr>\n",
       "      <th>41995</th>\n",
       "      <td>0</td>\n",
       "      <td>0</td>\n",
       "      <td>0</td>\n",
       "      <td>0</td>\n",
       "      <td>0</td>\n",
       "      <td>0</td>\n",
       "      <td>0</td>\n",
       "      <td>0</td>\n",
       "      <td>0</td>\n",
       "      <td>0</td>\n",
       "      <td>...</td>\n",
       "      <td>0</td>\n",
       "      <td>0</td>\n",
       "      <td>0</td>\n",
       "      <td>0</td>\n",
       "      <td>0</td>\n",
       "      <td>0</td>\n",
       "      <td>0</td>\n",
       "      <td>0</td>\n",
       "      <td>0</td>\n",
       "      <td>0</td>\n",
       "    </tr>\n",
       "    <tr>\n",
       "      <th>41996</th>\n",
       "      <td>1</td>\n",
       "      <td>0</td>\n",
       "      <td>0</td>\n",
       "      <td>0</td>\n",
       "      <td>0</td>\n",
       "      <td>0</td>\n",
       "      <td>0</td>\n",
       "      <td>0</td>\n",
       "      <td>0</td>\n",
       "      <td>0</td>\n",
       "      <td>...</td>\n",
       "      <td>0</td>\n",
       "      <td>0</td>\n",
       "      <td>0</td>\n",
       "      <td>0</td>\n",
       "      <td>0</td>\n",
       "      <td>0</td>\n",
       "      <td>0</td>\n",
       "      <td>0</td>\n",
       "      <td>0</td>\n",
       "      <td>0</td>\n",
       "    </tr>\n",
       "    <tr>\n",
       "      <th>41997</th>\n",
       "      <td>7</td>\n",
       "      <td>0</td>\n",
       "      <td>0</td>\n",
       "      <td>0</td>\n",
       "      <td>0</td>\n",
       "      <td>0</td>\n",
       "      <td>0</td>\n",
       "      <td>0</td>\n",
       "      <td>0</td>\n",
       "      <td>0</td>\n",
       "      <td>...</td>\n",
       "      <td>0</td>\n",
       "      <td>0</td>\n",
       "      <td>0</td>\n",
       "      <td>0</td>\n",
       "      <td>0</td>\n",
       "      <td>0</td>\n",
       "      <td>0</td>\n",
       "      <td>0</td>\n",
       "      <td>0</td>\n",
       "      <td>0</td>\n",
       "    </tr>\n",
       "    <tr>\n",
       "      <th>41998</th>\n",
       "      <td>6</td>\n",
       "      <td>0</td>\n",
       "      <td>0</td>\n",
       "      <td>0</td>\n",
       "      <td>0</td>\n",
       "      <td>0</td>\n",
       "      <td>0</td>\n",
       "      <td>0</td>\n",
       "      <td>0</td>\n",
       "      <td>0</td>\n",
       "      <td>...</td>\n",
       "      <td>0</td>\n",
       "      <td>0</td>\n",
       "      <td>0</td>\n",
       "      <td>0</td>\n",
       "      <td>0</td>\n",
       "      <td>0</td>\n",
       "      <td>0</td>\n",
       "      <td>0</td>\n",
       "      <td>0</td>\n",
       "      <td>0</td>\n",
       "    </tr>\n",
       "    <tr>\n",
       "      <th>41999</th>\n",
       "      <td>9</td>\n",
       "      <td>0</td>\n",
       "      <td>0</td>\n",
       "      <td>0</td>\n",
       "      <td>0</td>\n",
       "      <td>0</td>\n",
       "      <td>0</td>\n",
       "      <td>0</td>\n",
       "      <td>0</td>\n",
       "      <td>0</td>\n",
       "      <td>...</td>\n",
       "      <td>0</td>\n",
       "      <td>0</td>\n",
       "      <td>0</td>\n",
       "      <td>0</td>\n",
       "      <td>0</td>\n",
       "      <td>0</td>\n",
       "      <td>0</td>\n",
       "      <td>0</td>\n",
       "      <td>0</td>\n",
       "      <td>0</td>\n",
       "    </tr>\n",
       "  </tbody>\n",
       "</table>\n",
       "<p>42000 rows × 785 columns</p>\n",
       "</div>"
      ],
      "text/plain": [
       "       label  pixel0  pixel1  pixel2  pixel3  pixel4  pixel5  pixel6  pixel7  \\\n",
       "0          1       0       0       0       0       0       0       0       0   \n",
       "1          0       0       0       0       0       0       0       0       0   \n",
       "2          1       0       0       0       0       0       0       0       0   \n",
       "3          4       0       0       0       0       0       0       0       0   \n",
       "4          0       0       0       0       0       0       0       0       0   \n",
       "...      ...     ...     ...     ...     ...     ...     ...     ...     ...   \n",
       "41995      0       0       0       0       0       0       0       0       0   \n",
       "41996      1       0       0       0       0       0       0       0       0   \n",
       "41997      7       0       0       0       0       0       0       0       0   \n",
       "41998      6       0       0       0       0       0       0       0       0   \n",
       "41999      9       0       0       0       0       0       0       0       0   \n",
       "\n",
       "       pixel8  ...  pixel774  pixel775  pixel776  pixel777  pixel778  \\\n",
       "0           0  ...         0         0         0         0         0   \n",
       "1           0  ...         0         0         0         0         0   \n",
       "2           0  ...         0         0         0         0         0   \n",
       "3           0  ...         0         0         0         0         0   \n",
       "4           0  ...         0         0         0         0         0   \n",
       "...       ...  ...       ...       ...       ...       ...       ...   \n",
       "41995       0  ...         0         0         0         0         0   \n",
       "41996       0  ...         0         0         0         0         0   \n",
       "41997       0  ...         0         0         0         0         0   \n",
       "41998       0  ...         0         0         0         0         0   \n",
       "41999       0  ...         0         0         0         0         0   \n",
       "\n",
       "       pixel779  pixel780  pixel781  pixel782  pixel783  \n",
       "0             0         0         0         0         0  \n",
       "1             0         0         0         0         0  \n",
       "2             0         0         0         0         0  \n",
       "3             0         0         0         0         0  \n",
       "4             0         0         0         0         0  \n",
       "...         ...       ...       ...       ...       ...  \n",
       "41995         0         0         0         0         0  \n",
       "41996         0         0         0         0         0  \n",
       "41997         0         0         0         0         0  \n",
       "41998         0         0         0         0         0  \n",
       "41999         0         0         0         0         0  \n",
       "\n",
       "[42000 rows x 785 columns]"
      ]
     },
     "execution_count": 2,
     "metadata": {},
     "output_type": "execute_result"
    }
   ],
   "source": [
    "df = pd.read_csv(\"C:\\\\Users\\\\sanjay\\\\Documents\\\\All working files\\\\data\\\\machine learning data\\\\mnist_train.csv\")\n",
    "df"
   ]
  },
  {
   "cell_type": "code",
   "execution_count": 5,
   "metadata": {},
   "outputs": [
    {
     "data": {
      "text/plain": [
       "<matplotlib.image.AxesImage at 0x1514398bad0>"
      ]
     },
     "execution_count": 5,
     "metadata": {},
     "output_type": "execute_result"
    },
    {
     "data": {
      "image/png": "[encoded data removed]",
      "text/plain": [
       "<Figure size 640x480 with 1 Axes>"
      ]
     },
     "metadata": {},
     "output_type": "display_data"
    }
   ],
   "source": [
    "plt.imshow(df.iloc[41998,1:].values.reshape(28,28))"
   ]
  },
  {
   "cell_type": "code",
   "execution_count": 37,
   "metadata": {},
   "outputs": [],
   "source": [
    "X = df.drop(columns=['label'],axis=1)\n",
    "y = df['label']"
   ]
  },
  {
   "cell_type": "code",
   "execution_count": 54,
   "metadata": {},
   "outputs": [],
   "source": [
    "X_train, X_test, y_train, y_test = train_test_split(X,y,test_size=0.2,random_state=42)"
   ]
  },
  {
   "cell_type": "code",
   "execution_count": 55,
   "metadata": {},
   "outputs": [
    {
     "data": {
      "text/plain": [
       "0.9648809523809524"
      ]
     },
     "execution_count": 55,
     "metadata": {},
     "output_type": "execute_result"
    }
   ],
   "source": [
    "knn = KNeighborsClassifier(n_neighbors=5)\n",
    "knn.fit(X_train,y_train)\n",
    "y_pred = knn.predict(X_test)\n",
    "accuracy_score(y_test,y_pred)"
   ]
  },
  {
   "cell_type": "code",
   "execution_count": 56,
   "metadata": {},
   "outputs": [],
   "source": [
    "scaler = StandardScaler()\n",
    "X_train_scaled = scaler.fit_transform(X_train)\n",
    "X_test_scaled = scaler.fit_transform(X_test)"
   ]
  },
  {
   "cell_type": "code",
   "execution_count": 57,
   "metadata": {},
   "outputs": [],
   "source": [
    "pca = PCA(n_components=100)\n",
    "X_train_pca = pca.fit_transform(X_train)\n",
    "X_test_pca = pca.transform(X_test)"
   ]
  },
  {
   "cell_type": "code",
   "execution_count": 62,
   "metadata": {},
   "outputs": [
    {
     "data": {
      "text/plain": [
       "array([0.09770722, 0.07129345, 0.06175413, 0.05389551, 0.04892553,\n",
       "       0.04336844, 0.03276574, 0.02892703, 0.02770703, 0.02329171,\n",
       "       0.02093107, 0.02047164, 0.01707795, 0.01683206, 0.01584721,\n",
       "       0.01487983, 0.01323098, 0.01283937, 0.01183384, 0.01151186,\n",
       "       0.01075969, 0.01024215, 0.00966626, 0.00917296, 0.00884714,\n",
       "       0.00833528, 0.00815071, 0.00775332, 0.00741987, 0.00693325,\n",
       "       0.00660848, 0.00633209, 0.00603213, 0.0058873 , 0.0056183 ,\n",
       "       0.00539861, 0.0050791 , 0.00487127, 0.00471253, 0.00464556,\n",
       "       0.0045249 , 0.00444059, 0.00416518, 0.00395636, 0.00383603,\n",
       "       0.00373127, 0.00360704, 0.00348864, 0.00334198, 0.0031801 ,\n",
       "       0.00314204, 0.00307233, 0.00292365, 0.00286551, 0.00279114,\n",
       "       0.00269327, 0.00264926, 0.00256633, 0.00252846, 0.00245247,\n",
       "       0.00240544, 0.00239082, 0.00226885, 0.00221622, 0.00214585,\n",
       "       0.00205776, 0.00201675, 0.00196276, 0.00193584, 0.00188214,\n",
       "       0.00185554, 0.0018166 , 0.00175162, 0.00172494, 0.00165037,\n",
       "       0.00162898, 0.0015971 , 0.00153762, 0.00146393, 0.00141435,\n",
       "       0.00140604, 0.00139209, 0.00138403, 0.00134626, 0.00131028,\n",
       "       0.00129938, 0.00129119, 0.00122537, 0.00120674, 0.00119333,\n",
       "       0.00114606, 0.00112592, 0.00111812, 0.00107242, 0.0010707 ,\n",
       "       0.00105376, 0.00101394, 0.00100598, 0.00097846, 0.00097643])"
      ]
     },
     "execution_count": 62,
     "metadata": {},
     "output_type": "execute_result"
    }
   ],
   "source": [
    "pca.explained_variance_ratio_"
   ]
  },
  {
   "cell_type": "code",
   "execution_count": 58,
   "metadata": {},
   "outputs": [
    {
     "data": {
      "text/plain": [
       "0.9694047619047619"
      ]
     },
     "execution_count": 58,
     "metadata": {},
     "output_type": "execute_result"
    }
   ],
   "source": [
    "knn.fit(X_train_pca,y_train)\n",
    "y_pred = knn.predict(X_test_pca)\n",
    "accuracy_score(y_test,y_pred)"
   ]
  },
  {
   "cell_type": "code",
   "execution_count": 63,
   "metadata": {},
   "outputs": [],
   "source": [
    "pca = PCA(0.95)\n",
    "new_X_train_pca = pca.fit_transform(X_train_scaled)\n",
    "new_X_test_pca  = pca.transform(X_test_scaled)"
   ]
  },
  {
   "cell_type": "code",
   "execution_count": 64,
   "metadata": {},
   "outputs": [
    {
     "data": {
      "text/plain": [
       "array([0.05785192, 0.0414927 , 0.03804239, 0.02966263, 0.02581562,\n",
       "       0.0225498 , 0.01973068, 0.0177528 , 0.01568651, 0.01436063,\n",
       "       0.01370255, 0.01227255, 0.01146912, 0.01123027, 0.01058529,\n",
       "       0.01019931, 0.00957676, 0.00942709, 0.00912489, 0.0089017 ,\n",
       "       0.0083994 , 0.00820063, 0.00785303, 0.0075674 , 0.00737261,\n",
       "       0.00701885, 0.0069792 , 0.00671104, 0.00639845, 0.00630337,\n",
       "       0.00615351, 0.00602389, 0.00583674, 0.00578548, 0.00572333,\n",
       "       0.005464  , 0.00543207, 0.00528173, 0.00513382, 0.00494015,\n",
       "       0.00487671, 0.00481979, 0.00468204, 0.00459342, 0.00457661,\n",
       "       0.00449219, 0.00444682, 0.00441541, 0.00435112, 0.00432033,\n",
       "       0.00421809, 0.00418243, 0.00407994, 0.00402005, 0.00398336,\n",
       "       0.00394599, 0.00386872, 0.00383195, 0.00376553, 0.00374193,\n",
       "       0.00364852, 0.00360803, 0.00353886, 0.00347941, 0.00344323,\n",
       "       0.00337938, 0.0033499 , 0.00332008, 0.00326881, 0.00320508,\n",
       "       0.00318776, 0.00311389, 0.00309633, 0.00305831, 0.00303709,\n",
       "       0.00301376, 0.00298512, 0.00296113, 0.00291548, 0.00288883,\n",
       "       0.00287569, 0.00286404, 0.00282785, 0.00281622, 0.00280793,\n",
       "       0.00276935, 0.00274372, 0.00270767, 0.00268941, 0.00265925,\n",
       "       0.00264099, 0.00262765, 0.00260157, 0.00257068, 0.00255918,\n",
       "       0.00254982, 0.00251345, 0.00250763, 0.00246859, 0.00244171,\n",
       "       0.00240161, 0.00238765, 0.00235343, 0.00232757, 0.00231016,\n",
       "       0.00230083, 0.00225646, 0.00224647, 0.00223973, 0.00222252,\n",
       "       0.00218633, 0.00216997, 0.00214187, 0.00212592, 0.00207956,\n",
       "       0.00205748, 0.00205066, 0.00200928, 0.00199917, 0.00199134,\n",
       "       0.00195813, 0.00195363, 0.00192649, 0.00191596, 0.00189591,\n",
       "       0.00187615, 0.00187127, 0.00184779, 0.00184155, 0.00182706,\n",
       "       0.0017959 , 0.00177935, 0.00175872, 0.00173252, 0.00172623,\n",
       "       0.00171977, 0.00169193, 0.00168457, 0.00165905, 0.00164894,\n",
       "       0.00162774, 0.00160256, 0.0015989 , 0.00158886, 0.00158071,\n",
       "       0.00156493, 0.00153773, 0.00153171, 0.0015146 , 0.00150351,\n",
       "       0.00148618, 0.00147386, 0.00146767, 0.00145987, 0.00145654,\n",
       "       0.00145073, 0.00142789, 0.00142424, 0.00141877, 0.00141806,\n",
       "       0.00141459, 0.00140772, 0.00139313, 0.00138983, 0.00138513,\n",
       "       0.00136286, 0.00135661, 0.00134218, 0.00134056, 0.00133027,\n",
       "       0.00132366, 0.00130223, 0.00129067, 0.00128784, 0.00127717,\n",
       "       0.0012613 , 0.00124636, 0.00123615, 0.00122543, 0.00121189,\n",
       "       0.00120452, 0.00118448, 0.00117142, 0.00115884, 0.00114775,\n",
       "       0.00112888, 0.00112763, 0.00111432, 0.00110125, 0.00108746,\n",
       "       0.00108187, 0.00107863, 0.00106922, 0.00105951, 0.0010569 ,\n",
       "       0.00104941, 0.00103567, 0.0010253 , 0.00101222, 0.0010103 ,\n",
       "       0.00099641, 0.00098617, 0.00097935, 0.00097282, 0.00097251,\n",
       "       0.0009681 , 0.00095788, 0.00094542, 0.00093438, 0.00091392,\n",
       "       0.00090866, 0.00090488, 0.00089314, 0.00088948, 0.00088028,\n",
       "       0.00086799, 0.00084962, 0.0008468 , 0.0008363 , 0.00082233,\n",
       "       0.00081865, 0.00081462, 0.00080982, 0.00080348, 0.00079886,\n",
       "       0.00078125, 0.0007794 , 0.00077123, 0.00075937, 0.00075166,\n",
       "       0.0007473 , 0.00074117, 0.00073615, 0.00072909, 0.00072295,\n",
       "       0.00071408, 0.00070679, 0.00070162, 0.00069653, 0.00069351,\n",
       "       0.00068689, 0.00067546, 0.00067123, 0.00066172, 0.00065892,\n",
       "       0.00065139, 0.00063938, 0.00063107, 0.00062647, 0.00062597,\n",
       "       0.00061807, 0.00061467, 0.00060915, 0.00060187, 0.00059529,\n",
       "       0.00058655, 0.00058383, 0.00058222, 0.00057535, 0.00057125,\n",
       "       0.00056246, 0.00056087, 0.00055464, 0.00054999, 0.00054647,\n",
       "       0.00054163, 0.00053649, 0.00053421, 0.00053194, 0.00053077,\n",
       "       0.00052179, 0.00051665, 0.00051594, 0.00050943, 0.00050432,\n",
       "       0.00050307, 0.00049947, 0.00049869, 0.00049283, 0.000483  ,\n",
       "       0.00048102, 0.00047733, 0.00047439, 0.00047029, 0.00046225,\n",
       "       0.00046054, 0.00045716, 0.00045384, 0.00045047, 0.00044326,\n",
       "       0.00044142, 0.00043592, 0.00043011, 0.0004242 , 0.0004228 ,\n",
       "       0.00041806, 0.00041421, 0.00041123, 0.00041009, 0.00040522,\n",
       "       0.00040321, 0.00039907, 0.0003977 , 0.00039504, 0.00039412,\n",
       "       0.00038606, 0.00038371, 0.00038091, 0.00037855, 0.00037672,\n",
       "       0.00037066, 0.00037014, 0.00036353, 0.00035805, 0.00035576])"
      ]
     },
     "execution_count": 64,
     "metadata": {},
     "output_type": "execute_result"
    }
   ],
   "source": [
    "pca.explained_variance_ratio_"
   ]
  },
  {
   "cell_type": "code",
   "execution_count": 65,
   "metadata": {},
   "outputs": [
    {
     "data": {
      "text/plain": [
       "(33600, 315)"
      ]
     },
     "execution_count": 65,
     "metadata": {},
     "output_type": "execute_result"
    }
   ],
   "source": [
    "new_X_train_pca.shape"
   ]
  },
  {
   "cell_type": "code",
   "execution_count": 66,
   "metadata": {},
   "outputs": [
    {
     "data": {
      "text/plain": [
       "0.9464285714285714"
      ]
     },
     "execution_count": 66,
     "metadata": {},
     "output_type": "execute_result"
    }
   ],
   "source": [
    "knn.fit(new_X_train_pca,y_train)\n",
    "y_pred = knn.predict(new_X_test_pca)\n",
    "accuracy_score(y_test,y_pred)"
   ]
  },
  {
   "cell_type": "code",
   "execution_count": null,
   "metadata": {},
   "outputs": [],
   "source": []
  }
 ],
 "metadata": {
  "kernelspec": {
   "display_name": "Python 3",
   "language": "python",
   "name": "python3"
  },
  "language_info": {
   "codemirror_mode": {
    "name": "ipython",
    "version": 3
   },
   "file_extension": ".py",
   "mimetype": "text/x-python",
   "name": "python",
   "nbconvert_exporter": "python",
   "pygments_lexer": "ipython3",
   "version": "3.12.1"
  }
 },
 "nbformat": 4,
 "nbformat_minor": 2
}
