{
 "cells": [
  {
   "cell_type": "code",
   "execution_count": 1,
   "metadata": {},
   "outputs": [],
   "source": [
    "import pandas as pd \n",
    "import numpy as np \n",
    "from sklearn.linear_model import LogisticRegression\n",
    "from sklearn.model_selection import train_test_split\n",
    "from sklearn.metrics import accuracy_score,confusion_matrix\n",
    "import statsmodels.stats.outliers_influence as sms\n",
    "import statsmodels.api as sm\n",
    "from sklearn.model_selection import cross_val_score"
   ]
  },
  {
   "cell_type": "code",
   "execution_count": 2,
   "metadata": {},
   "outputs": [
    {
     "data": {
      "text/html": [
       "<div>\n",
       "<style scoped>\n",
       "    .dataframe tbody tr th:only-of-type {\n",
       "        vertical-align: middle;\n",
       "    }\n",
       "\n",
       "    .dataframe tbody tr th {\n",
       "        vertical-align: top;\n",
       "    }\n",
       "\n",
       "    .dataframe thead th {\n",
       "        text-align: right;\n",
       "    }\n",
       "</style>\n",
       "<table border=\"1\" class=\"dataframe\">\n",
       "  <thead>\n",
       "    <tr style=\"text-align: right;\">\n",
       "      <th></th>\n",
       "      <th>relationship_dynamics</th>\n",
       "      <th>communication_pattern</th>\n",
       "      <th>negative_interaction</th>\n",
       "      <th>external_stressors</th>\n",
       "      <th>Divorce_Y_N</th>\n",
       "    </tr>\n",
       "  </thead>\n",
       "  <tbody>\n",
       "    <tr>\n",
       "      <th>0</th>\n",
       "      <td>-0.746628</td>\n",
       "      <td>-0.963401</td>\n",
       "      <td>0.789629</td>\n",
       "      <td>-0.496849</td>\n",
       "      <td>1</td>\n",
       "    </tr>\n",
       "    <tr>\n",
       "      <th>1</th>\n",
       "      <td>1.417390</td>\n",
       "      <td>-0.914318</td>\n",
       "      <td>0.030392</td>\n",
       "      <td>-0.408152</td>\n",
       "      <td>1</td>\n",
       "    </tr>\n",
       "    <tr>\n",
       "      <th>2</th>\n",
       "      <td>0.824398</td>\n",
       "      <td>-0.124829</td>\n",
       "      <td>-1.308631</td>\n",
       "      <td>2.845540</td>\n",
       "      <td>1</td>\n",
       "    </tr>\n",
       "    <tr>\n",
       "      <th>3</th>\n",
       "      <td>1.034521</td>\n",
       "      <td>-0.554783</td>\n",
       "      <td>-0.873702</td>\n",
       "      <td>3.162281</td>\n",
       "      <td>1</td>\n",
       "    </tr>\n",
       "    <tr>\n",
       "      <th>4</th>\n",
       "      <td>-0.082114</td>\n",
       "      <td>0.138233</td>\n",
       "      <td>-1.001100</td>\n",
       "      <td>-0.096981</td>\n",
       "      <td>1</td>\n",
       "    </tr>\n",
       "    <tr>\n",
       "      <th>...</th>\n",
       "      <td>...</td>\n",
       "      <td>...</td>\n",
       "      <td>...</td>\n",
       "      <td>...</td>\n",
       "      <td>...</td>\n",
       "    </tr>\n",
       "    <tr>\n",
       "      <th>165</th>\n",
       "      <td>-1.591673</td>\n",
       "      <td>-2.573143</td>\n",
       "      <td>2.459211</td>\n",
       "      <td>-0.687193</td>\n",
       "      <td>0</td>\n",
       "    </tr>\n",
       "    <tr>\n",
       "      <th>166</th>\n",
       "      <td>-1.609503</td>\n",
       "      <td>0.642635</td>\n",
       "      <td>0.229238</td>\n",
       "      <td>-0.457197</td>\n",
       "      <td>0</td>\n",
       "    </tr>\n",
       "    <tr>\n",
       "      <th>167</th>\n",
       "      <td>-0.447329</td>\n",
       "      <td>0.234817</td>\n",
       "      <td>-0.934859</td>\n",
       "      <td>-0.399774</td>\n",
       "      <td>0</td>\n",
       "    </tr>\n",
       "    <tr>\n",
       "      <th>168</th>\n",
       "      <td>-1.504161</td>\n",
       "      <td>0.421215</td>\n",
       "      <td>0.294074</td>\n",
       "      <td>-0.531913</td>\n",
       "      <td>0</td>\n",
       "    </tr>\n",
       "    <tr>\n",
       "      <th>169</th>\n",
       "      <td>-1.207640</td>\n",
       "      <td>0.076654</td>\n",
       "      <td>0.264664</td>\n",
       "      <td>-0.816237</td>\n",
       "      <td>0</td>\n",
       "    </tr>\n",
       "  </tbody>\n",
       "</table>\n",
       "<p>170 rows × 5 columns</p>\n",
       "</div>"
      ],
      "text/plain": [
       "     relationship_dynamics  communication_pattern  negative_interaction  \\\n",
       "0                -0.746628              -0.963401              0.789629   \n",
       "1                 1.417390              -0.914318              0.030392   \n",
       "2                 0.824398              -0.124829             -1.308631   \n",
       "3                 1.034521              -0.554783             -0.873702   \n",
       "4                -0.082114               0.138233             -1.001100   \n",
       "..                     ...                    ...                   ...   \n",
       "165              -1.591673              -2.573143              2.459211   \n",
       "166              -1.609503               0.642635              0.229238   \n",
       "167              -0.447329               0.234817             -0.934859   \n",
       "168              -1.504161               0.421215              0.294074   \n",
       "169              -1.207640               0.076654              0.264664   \n",
       "\n",
       "     external_stressors  Divorce_Y_N  \n",
       "0             -0.496849            1  \n",
       "1             -0.408152            1  \n",
       "2              2.845540            1  \n",
       "3              3.162281            1  \n",
       "4             -0.096981            1  \n",
       "..                  ...          ...  \n",
       "165           -0.687193            0  \n",
       "166           -0.457197            0  \n",
       "167           -0.399774            0  \n",
       "168           -0.531913            0  \n",
       "169           -0.816237            0  \n",
       "\n",
       "[170 rows x 5 columns]"
      ]
     },
     "execution_count": 2,
     "metadata": {},
     "output_type": "execute_result"
    }
   ],
   "source": [
    "df = pd.read_csv('divorce_factor.csv')\n",
    "df"
   ]
  },
  {
   "cell_type": "code",
   "execution_count": 12,
   "metadata": {},
   "outputs": [
    {
     "data": {
      "text/html": [
       "<div>\n",
       "<style scoped>\n",
       "    .dataframe tbody tr th:only-of-type {\n",
       "        vertical-align: middle;\n",
       "    }\n",
       "\n",
       "    .dataframe tbody tr th {\n",
       "        vertical-align: top;\n",
       "    }\n",
       "\n",
       "    .dataframe thead th {\n",
       "        text-align: right;\n",
       "    }\n",
       "</style>\n",
       "<table border=\"1\" class=\"dataframe\">\n",
       "  <thead>\n",
       "    <tr style=\"text-align: right;\">\n",
       "      <th></th>\n",
       "      <th>relationship_dynamics</th>\n",
       "      <th>communication_pattern</th>\n",
       "      <th>negative_interaction</th>\n",
       "      <th>external_stressors</th>\n",
       "      <th>Divorce_Y_N</th>\n",
       "    </tr>\n",
       "  </thead>\n",
       "  <tbody>\n",
       "    <tr>\n",
       "      <th>relationship_dynamics</th>\n",
       "      <td>1.000000e+00</td>\n",
       "      <td>1.196005e-12</td>\n",
       "      <td>-2.094096e-13</td>\n",
       "      <td>7.483665e-12</td>\n",
       "      <td>0.708907</td>\n",
       "    </tr>\n",
       "    <tr>\n",
       "      <th>communication_pattern</th>\n",
       "      <td>1.196005e-12</td>\n",
       "      <td>1.000000e+00</td>\n",
       "      <td>-9.064495e-12</td>\n",
       "      <td>6.549521e-12</td>\n",
       "      <td>0.291057</td>\n",
       "    </tr>\n",
       "    <tr>\n",
       "      <th>negative_interaction</th>\n",
       "      <td>-2.094096e-13</td>\n",
       "      <td>-9.064495e-12</td>\n",
       "      <td>1.000000e+00</td>\n",
       "      <td>-9.591282e-12</td>\n",
       "      <td>0.498856</td>\n",
       "    </tr>\n",
       "    <tr>\n",
       "      <th>external_stressors</th>\n",
       "      <td>7.483665e-12</td>\n",
       "      <td>6.549521e-12</td>\n",
       "      <td>-9.591282e-12</td>\n",
       "      <td>1.000000e+00</td>\n",
       "      <td>0.306034</td>\n",
       "    </tr>\n",
       "    <tr>\n",
       "      <th>Divorce_Y_N</th>\n",
       "      <td>7.089074e-01</td>\n",
       "      <td>2.910573e-01</td>\n",
       "      <td>4.988556e-01</td>\n",
       "      <td>3.060340e-01</td>\n",
       "      <td>1.000000</td>\n",
       "    </tr>\n",
       "  </tbody>\n",
       "</table>\n",
       "</div>"
      ],
      "text/plain": [
       "                       relationship_dynamics  communication_pattern  \\\n",
       "relationship_dynamics           1.000000e+00           1.196005e-12   \n",
       "communication_pattern           1.196005e-12           1.000000e+00   \n",
       "negative_interaction           -2.094096e-13          -9.064495e-12   \n",
       "external_stressors              7.483665e-12           6.549521e-12   \n",
       "Divorce_Y_N                     7.089074e-01           2.910573e-01   \n",
       "\n",
       "                       negative_interaction  external_stressors  Divorce_Y_N  \n",
       "relationship_dynamics         -2.094096e-13        7.483665e-12     0.708907  \n",
       "communication_pattern         -9.064495e-12        6.549521e-12     0.291057  \n",
       "negative_interaction           1.000000e+00       -9.591282e-12     0.498856  \n",
       "external_stressors            -9.591282e-12        1.000000e+00     0.306034  \n",
       "Divorce_Y_N                    4.988556e-01        3.060340e-01     1.000000  "
      ]
     },
     "execution_count": 12,
     "metadata": {},
     "output_type": "execute_result"
    }
   ],
   "source": [
    "df.corr()"
   ]
  },
  {
   "cell_type": "code",
   "execution_count": 3,
   "metadata": {},
   "outputs": [
    {
     "data": {
      "text/html": [
       "<div>\n",
       "<style scoped>\n",
       "    .dataframe tbody tr th:only-of-type {\n",
       "        vertical-align: middle;\n",
       "    }\n",
       "\n",
       "    .dataframe tbody tr th {\n",
       "        vertical-align: top;\n",
       "    }\n",
       "\n",
       "    .dataframe thead th {\n",
       "        text-align: right;\n",
       "    }\n",
       "</style>\n",
       "<table border=\"1\" class=\"dataframe\">\n",
       "  <thead>\n",
       "    <tr style=\"text-align: right;\">\n",
       "      <th></th>\n",
       "      <th>variables</th>\n",
       "      <th>VIF</th>\n",
       "    </tr>\n",
       "  </thead>\n",
       "  <tbody>\n",
       "    <tr>\n",
       "      <th>0</th>\n",
       "      <td>relationship_dynamics</td>\n",
       "      <td>1.0</td>\n",
       "    </tr>\n",
       "    <tr>\n",
       "      <th>1</th>\n",
       "      <td>communication_pattern</td>\n",
       "      <td>1.0</td>\n",
       "    </tr>\n",
       "    <tr>\n",
       "      <th>2</th>\n",
       "      <td>negative_interaction</td>\n",
       "      <td>1.0</td>\n",
       "    </tr>\n",
       "    <tr>\n",
       "      <th>3</th>\n",
       "      <td>external_stressors</td>\n",
       "      <td>1.0</td>\n",
       "    </tr>\n",
       "  </tbody>\n",
       "</table>\n",
       "</div>"
      ],
      "text/plain": [
       "               variables  VIF\n",
       "0  relationship_dynamics  1.0\n",
       "1  communication_pattern  1.0\n",
       "2   negative_interaction  1.0\n",
       "3     external_stressors  1.0"
      ]
     },
     "execution_count": 3,
     "metadata": {},
     "output_type": "execute_result"
    }
   ],
   "source": [
    "def calc_vif(df):\n",
    "    vif = pd.DataFrame()\n",
    "    vif[\"variables\"] = df.columns\n",
    "    vif[\"VIF\"] = [sms.variance_inflation_factor(df.values, i) for i in range(df.shape[1])]\n",
    "    return vif\n",
    "\n",
    "calc_vif(df[['relationship_dynamics', 'communication_pattern','negative_interaction', 'external_stressors']])"
   ]
  },
  {
   "cell_type": "code",
   "execution_count": 3,
   "metadata": {},
   "outputs": [],
   "source": [
    "X = df.drop(columns=['Divorce_Y_N'], axis=1)\n",
    "y = df['Divorce_Y_N']"
   ]
  },
  {
   "cell_type": "code",
   "execution_count": 4,
   "metadata": {},
   "outputs": [
    {
     "data": {
      "text/plain": [
       "Index(['relationship_dynamics', 'communication_pattern',\n",
       "       'negative_interaction', 'external_stressors'],\n",
       "      dtype='object')"
      ]
     },
     "execution_count": 4,
     "metadata": {},
     "output_type": "execute_result"
    }
   ],
   "source": [
    "X.columns"
   ]
  },
  {
   "cell_type": "code",
   "execution_count": 5,
   "metadata": {},
   "outputs": [
    {
     "data": {
      "text/html": [
       "<div>\n",
       "<style scoped>\n",
       "    .dataframe tbody tr th:only-of-type {\n",
       "        vertical-align: middle;\n",
       "    }\n",
       "\n",
       "    .dataframe tbody tr th {\n",
       "        vertical-align: top;\n",
       "    }\n",
       "\n",
       "    .dataframe thead th {\n",
       "        text-align: right;\n",
       "    }\n",
       "</style>\n",
       "<table border=\"1\" class=\"dataframe\">\n",
       "  <thead>\n",
       "    <tr style=\"text-align: right;\">\n",
       "      <th></th>\n",
       "      <th>relationship_dynamics</th>\n",
       "      <th>communication_pattern</th>\n",
       "      <th>negative_interaction</th>\n",
       "      <th>external_stressors</th>\n",
       "    </tr>\n",
       "  </thead>\n",
       "  <tbody>\n",
       "    <tr>\n",
       "      <th>0</th>\n",
       "      <td>-0.746628</td>\n",
       "      <td>-0.963401</td>\n",
       "      <td>0.789629</td>\n",
       "      <td>-0.496849</td>\n",
       "    </tr>\n",
       "    <tr>\n",
       "      <th>1</th>\n",
       "      <td>1.417390</td>\n",
       "      <td>-0.914318</td>\n",
       "      <td>0.030392</td>\n",
       "      <td>-0.408152</td>\n",
       "    </tr>\n",
       "    <tr>\n",
       "      <th>2</th>\n",
       "      <td>0.824398</td>\n",
       "      <td>-0.124829</td>\n",
       "      <td>-1.308631</td>\n",
       "      <td>2.845540</td>\n",
       "    </tr>\n",
       "    <tr>\n",
       "      <th>3</th>\n",
       "      <td>1.034521</td>\n",
       "      <td>-0.554783</td>\n",
       "      <td>-0.873702</td>\n",
       "      <td>3.162281</td>\n",
       "    </tr>\n",
       "    <tr>\n",
       "      <th>4</th>\n",
       "      <td>-0.082114</td>\n",
       "      <td>0.138233</td>\n",
       "      <td>-1.001100</td>\n",
       "      <td>-0.096981</td>\n",
       "    </tr>\n",
       "    <tr>\n",
       "      <th>...</th>\n",
       "      <td>...</td>\n",
       "      <td>...</td>\n",
       "      <td>...</td>\n",
       "      <td>...</td>\n",
       "    </tr>\n",
       "    <tr>\n",
       "      <th>165</th>\n",
       "      <td>-1.591673</td>\n",
       "      <td>-2.573143</td>\n",
       "      <td>2.459211</td>\n",
       "      <td>-0.687193</td>\n",
       "    </tr>\n",
       "    <tr>\n",
       "      <th>166</th>\n",
       "      <td>-1.609503</td>\n",
       "      <td>0.642635</td>\n",
       "      <td>0.229238</td>\n",
       "      <td>-0.457197</td>\n",
       "    </tr>\n",
       "    <tr>\n",
       "      <th>167</th>\n",
       "      <td>-0.447329</td>\n",
       "      <td>0.234817</td>\n",
       "      <td>-0.934859</td>\n",
       "      <td>-0.399774</td>\n",
       "    </tr>\n",
       "    <tr>\n",
       "      <th>168</th>\n",
       "      <td>-1.504161</td>\n",
       "      <td>0.421215</td>\n",
       "      <td>0.294074</td>\n",
       "      <td>-0.531913</td>\n",
       "    </tr>\n",
       "    <tr>\n",
       "      <th>169</th>\n",
       "      <td>-1.207640</td>\n",
       "      <td>0.076654</td>\n",
       "      <td>0.264664</td>\n",
       "      <td>-0.816237</td>\n",
       "    </tr>\n",
       "  </tbody>\n",
       "</table>\n",
       "<p>170 rows × 4 columns</p>\n",
       "</div>"
      ],
      "text/plain": [
       "     relationship_dynamics  communication_pattern  negative_interaction  \\\n",
       "0                -0.746628              -0.963401              0.789629   \n",
       "1                 1.417390              -0.914318              0.030392   \n",
       "2                 0.824398              -0.124829             -1.308631   \n",
       "3                 1.034521              -0.554783             -0.873702   \n",
       "4                -0.082114               0.138233             -1.001100   \n",
       "..                     ...                    ...                   ...   \n",
       "165              -1.591673              -2.573143              2.459211   \n",
       "166              -1.609503               0.642635              0.229238   \n",
       "167              -0.447329               0.234817             -0.934859   \n",
       "168              -1.504161               0.421215              0.294074   \n",
       "169              -1.207640               0.076654              0.264664   \n",
       "\n",
       "     external_stressors  \n",
       "0             -0.496849  \n",
       "1             -0.408152  \n",
       "2              2.845540  \n",
       "3              3.162281  \n",
       "4             -0.096981  \n",
       "..                  ...  \n",
       "165           -0.687193  \n",
       "166           -0.457197  \n",
       "167           -0.399774  \n",
       "168           -0.531913  \n",
       "169           -0.816237  \n",
       "\n",
       "[170 rows x 4 columns]"
      ]
     },
     "execution_count": 5,
     "metadata": {},
     "output_type": "execute_result"
    }
   ],
   "source": [
    "X"
   ]
  },
  {
   "cell_type": "code",
   "execution_count": 10,
   "metadata": {},
   "outputs": [
    {
     "name": "stdout",
     "output_type": "stream",
     "text": [
      "Optimization terminated successfully    (Exit mode 0)\n",
      "            Current function value: 0.10943675960696056\n",
      "            Iterations: 39\n",
      "            Function evaluations: 39\n",
      "            Gradient evaluations: 39\n",
      "                           Logit Regression Results                           \n",
      "==============================================================================\n",
      "Dep. Variable:            Divorce_Y_N   No. Observations:                  170\n",
      "Model:                          Logit   Df Residuals:                      165\n",
      "Method:                           MLE   Df Model:                            4\n",
      "Date:                Sat, 02 Mar 2024   Pseudo R-squ.:                  0.9105\n",
      "Time:                        20:05:13   Log-Likelihood:                -10.541\n",
      "converged:                       True   LL-Null:                       -117.82\n",
      "Covariance Type:            nonrobust   LLR p-value:                 2.770e-45\n",
      "=========================================================================================\n",
      "                            coef    std err          z      P>|z|      [0.025      0.975]\n",
      "-----------------------------------------------------------------------------------------\n",
      "const                     0.3620      0.590      0.613      0.540      -0.795       1.518\n",
      "relationship_dynamics     3.0873      0.620      4.981      0.000       1.872       4.302\n",
      "communication_pattern     1.0127      0.519      1.951      0.051      -0.005       2.030\n",
      "negative_interaction      2.1641      0.584      3.708      0.000       1.020       3.308\n",
      "external_stressors        1.4372      0.545      2.637      0.008       0.369       2.505\n",
      "=========================================================================================\n"
     ]
    }
   ],
   "source": [
    "X1 = sm.add_constant(X)\n",
    "model  = sm.Logit(y, X1).fit_regularized(alpha=1)\n",
    "print(model.summary())"
   ]
  },
  {
   "cell_type": "code",
   "execution_count": 11,
   "metadata": {},
   "outputs": [
    {
     "name": "stdout",
     "output_type": "stream",
     "text": [
      "accuracy_score is  0.9764705882352941\n"
     ]
    }
   ],
   "source": [
    "\n",
    "yhat = model.predict(X1) \n",
    "prediction = list(map(round, yhat))\n",
    "print(\"accuracy_score is \", accuracy_score(y,prediction))"
   ]
  },
  {
   "cell_type": "code",
   "execution_count": 12,
   "metadata": {},
   "outputs": [
    {
     "data": {
      "text/plain": [
       "array([[86,  0],\n",
       "       [ 4, 80]], dtype=int64)"
      ]
     },
     "execution_count": 12,
     "metadata": {},
     "output_type": "execute_result"
    }
   ],
   "source": [
    "confusion_matrix(y,prediction)"
   ]
  },
  {
   "cell_type": "code",
   "execution_count": 13,
   "metadata": {},
   "outputs": [
    {
     "data": {
      "text/plain": [
       "<Axes: >"
      ]
     },
     "execution_count": 13,
     "metadata": {},
     "output_type": "execute_result"
    },
    {
     "data": {
      "image/png": "[encoded data removed]",
      "text/plain": [
       "<Figure size 640x480 with 2 Axes>"
      ]
     },
     "metadata": {},
     "output_type": "display_data"
    }
   ],
   "source": [
    "import seaborn as sns\n",
    "sns.heatmap(confusion_matrix(y,prediction),annot=True,cmap=\"YlGnBu\")"
   ]
  }
 ],
 "metadata": {
  "kernelspec": {
   "display_name": "Python 3",
   "language": "python",
   "name": "python3"
  },
  "language_info": {
   "codemirror_mode": {
    "name": "ipython",
    "version": 3
   },
   "file_extension": ".py",
   "mimetype": "text/x-python",
   "name": "python",
   "nbconvert_exporter": "python",
   "pygments_lexer": "ipython3",
   "version": "3.12.1"
  }
 },
 "nbformat": 4,
 "nbformat_minor": 2
}
