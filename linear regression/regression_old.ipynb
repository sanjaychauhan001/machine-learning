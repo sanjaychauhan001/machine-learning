{
 "cells": [
  {
   "cell_type": "code",
   "execution_count": 1,
   "metadata": {},
   "outputs": [
    {
     "name": "stdout",
     "output_type": "stream",
     "text": [
      "                            OLS Regression Results                            \n",
      "==============================================================================\n",
      "Dep. Variable:                      y   R-squared:                       0.961\n",
      "Model:                            OLS   Adj. R-squared:                  0.947\n",
      "Method:                 Least Squares   F-statistic:                     73.12\n",
      "Date:                Sun, 21 Jul 2024   Prob (F-statistic):            0.00336\n",
      "Time:                        11:32:27   Log-Likelihood:                 1.6755\n",
      "No. Observations:                   5   AIC:                            0.6489\n",
      "Df Residuals:                       3   BIC:                           -0.1322\n",
      "Df Model:                           1                                         \n",
      "Covariance Type:            nonrobust                                         \n",
      "==============================================================================\n",
      "                 coef    std err          t      P>|t|      [0.025      0.975]\n",
      "------------------------------------------------------------------------------\n",
      "const         -2.3491      0.900     -2.610      0.080      -5.214       0.515\n",
      "x1             1.0253      0.120      8.551      0.003       0.644       1.407\n",
      "==============================================================================\n",
      "Omnibus:                          nan   Durbin-Watson:                   2.829\n",
      "Prob(Omnibus):                    nan   Jarque-Bera (JB):                1.611\n",
      "Skew:                          -1.389   Prob(JB):                        0.447\n",
      "Kurtosis:                       3.109   Cond. No.                         68.8\n",
      "==============================================================================\n",
      "\n",
      "Notes:\n",
      "[1] Standard Errors assume that the covariance matrix of the errors is correctly specified.\n"
     ]
    },
    {
     "name": "stderr",
     "output_type": "stream",
     "text": [
      "c:\\Users\\sanjay\\AppData\\Local\\Programs\\Python\\Python312\\Lib\\site-packages\\statsmodels\\stats\\stattools.py:74: ValueWarning: omni_normtest is not valid with less than 8 observations; 5 samples were given.\n",
      "  warn(\"omni_normtest is not valid with less than 8 observations; %i \"\n"
     ]
    }
   ],
   "source": [
    "import pandas as pd\n",
    "\n",
    "df = pd.DataFrame({'cgpa':[7.1,8.1,8.5,7.5,6.1],\n",
    "              'lpa':[5,6,6.5,5,4]})\n",
    "df\n",
    "\n",
    "import statsmodels.api as sm\n",
    "\n",
    "x = df['cgpa'].tolist()\n",
    "y = df['lpa'].tolist()\n",
    " \n",
    "# adding the constant term\n",
    "x = sm.add_constant(x)\n",
    " \n",
    "# performing the regression\n",
    "# and fitting the model\n",
    "result = sm.OLS(y, x).fit()\n",
    " \n",
    "# printing the summary table\n",
    "print(result.summary())"
   ]
  }
 ],
 "metadata": {
  "kernelspec": {
   "display_name": "Python 3",
   "language": "python",
   "name": "python3"
  },
  "language_info": {
   "codemirror_mode": {
    "name": "ipython",
    "version": 3
   },
   "file_extension": ".py",
   "mimetype": "text/x-python",
   "name": "python",
   "nbconvert_exporter": "python",
   "pygments_lexer": "ipython3",
   "version": "3.12.3"
  }
 },
 "nbformat": 4,
 "nbformat_minor": 2
}
