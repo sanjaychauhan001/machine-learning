{
 "cells": [
  {
   "cell_type": "code",
   "execution_count": 1,
   "metadata": {},
   "outputs": [],
   "source": [
    "import pandas as pd \n",
    "import numpy as np \n",
    "import plotly.express as px\n",
    "from sklearn.model_selection import train_test_split\n",
    "from sklearn.metrics import r2_score, accuracy_score \n",
    "from sklearn.linear_model import LinearRegression\n",
    "from sklearn.preprocessing import StandardScaler\n",
    "from sklearn.decomposition import PCA"
   ]
  },
  {
   "cell_type": "code",
   "execution_count": 2,
   "metadata": {},
   "outputs": [
    {
     "data": {
      "text/html": [
       "<div>\n",
       "<style scoped>\n",
       "    .dataframe tbody tr th:only-of-type {\n",
       "        vertical-align: middle;\n",
       "    }\n",
       "\n",
       "    .dataframe tbody tr th {\n",
       "        vertical-align: top;\n",
       "    }\n",
       "\n",
       "    .dataframe thead th {\n",
       "        text-align: right;\n",
       "    }\n",
       "</style>\n",
       "<table border=\"1\" class=\"dataframe\">\n",
       "  <thead>\n",
       "    <tr style=\"text-align: right;\">\n",
       "      <th></th>\n",
       "      <th>TV</th>\n",
       "      <th>Radio</th>\n",
       "      <th>Newspaper</th>\n",
       "      <th>Sales</th>\n",
       "    </tr>\n",
       "  </thead>\n",
       "  <tbody>\n",
       "    <tr>\n",
       "      <th>0</th>\n",
       "      <td>230.1</td>\n",
       "      <td>37.8</td>\n",
       "      <td>69.2</td>\n",
       "      <td>22.1</td>\n",
       "    </tr>\n",
       "    <tr>\n",
       "      <th>1</th>\n",
       "      <td>44.5</td>\n",
       "      <td>39.3</td>\n",
       "      <td>45.1</td>\n",
       "      <td>10.4</td>\n",
       "    </tr>\n",
       "    <tr>\n",
       "      <th>2</th>\n",
       "      <td>17.2</td>\n",
       "      <td>45.9</td>\n",
       "      <td>69.3</td>\n",
       "      <td>12.0</td>\n",
       "    </tr>\n",
       "    <tr>\n",
       "      <th>3</th>\n",
       "      <td>151.5</td>\n",
       "      <td>41.3</td>\n",
       "      <td>58.5</td>\n",
       "      <td>16.5</td>\n",
       "    </tr>\n",
       "    <tr>\n",
       "      <th>4</th>\n",
       "      <td>180.8</td>\n",
       "      <td>10.8</td>\n",
       "      <td>58.4</td>\n",
       "      <td>17.9</td>\n",
       "    </tr>\n",
       "  </tbody>\n",
       "</table>\n",
       "</div>"
      ],
      "text/plain": [
       "      TV  Radio  Newspaper  Sales\n",
       "0  230.1   37.8       69.2   22.1\n",
       "1   44.5   39.3       45.1   10.4\n",
       "2   17.2   45.9       69.3   12.0\n",
       "3  151.5   41.3       58.5   16.5\n",
       "4  180.8   10.8       58.4   17.9"
      ]
     },
     "execution_count": 2,
     "metadata": {},
     "output_type": "execute_result"
    }
   ],
   "source": [
    "data = pd.read_csv(\"C:\\\\Users\\\\sanja\\\\OneDrive\\\\Pictures\\\\All working files\\data\\\\advertising (2).csv\")\n",
    "data.head()"
   ]
  },
  {
   "cell_type": "code",
   "execution_count": 5,
   "metadata": {},
   "outputs": [
    {
     "data": {
      "text/plain": [
       "TV           0\n",
       "Radio        0\n",
       "Newspaper    0\n",
       "Sales        0\n",
       "dtype: int64"
      ]
     },
     "execution_count": 5,
     "metadata": {},
     "output_type": "execute_result"
    }
   ],
   "source": [
    "data.isnull().sum()"
   ]
  },
  {
   "cell_type": "code",
   "execution_count": 3,
   "metadata": {},
   "outputs": [],
   "source": [
    "df = data.copy()"
   ]
  },
  {
   "cell_type": "code",
   "execution_count": 4,
   "metadata": {},
   "outputs": [],
   "source": [
    "X = df.drop(columns='Sales', axis=1)\n",
    "y = df['Sales']"
   ]
  },
  {
   "cell_type": "code",
   "execution_count": 5,
   "metadata": {},
   "outputs": [
    {
     "data": {
      "application/vnd.plotly.v1+json": {
       "config": {
        "plotlyServerURL": "https://plot.ly"
       },
       "data": [
        {
         "hovertemplate": "x=%{x}<br>y=%{y}<br>z=%{z}<extra></extra>",
         "legendgroup": "",
         "marker": {
          "color": "#636efa",
          "symbol": "circle"
         },
         "mode": "markers",
         "name": "",
         "scene": "scene",
         "showlegend": false,
         "type": "scatter3d",
         "x": [
          230.1,
          44.5,
          17.2,
          151.5,
          180.8,
          8.7,
          57.5,
          120.2,
          8.6,
          199.8,
          66.1,
          214.7,
          23.8,
          97.5,
          204.1,
          195.4,
          67.8,
          281.4,
          69.2,
          147.3,
          218.4,
          237.4,
          13.2,
          228.3,
          62.3,
          262.9,
          142.9,
          240.1,
          248.8,
          70.6,
          292.9,
          112.9,
          97.2,
          265.6,
          95.7,
          290.7,
          266.9,
          74.7,
          43.1,
          228,
          202.5,
          177,
          293.6,
          206.9,
          25.1,
          175.1,
          89.7,
          239.9,
          227.2,
          66.9,
          199.8,
          100.4,
          216.4,
          182.6,
          262.7,
          198.9,
          7.3,
          136.2,
          210.8,
          210.7,
          53.5,
          261.3,
          239.3,
          102.7,
          131.1,
          69,
          31.5,
          139.3,
          237.4,
          216.8,
          199.1,
          109.8,
          26.8,
          129.4,
          213.4,
          16.9,
          27.5,
          120.5,
          5.4,
          116,
          76.4,
          239.8,
          75.3,
          68.4,
          213.5,
          193.2,
          76.3,
          110.7,
          88.3,
          109.8,
          134.3,
          28.6,
          217.7,
          250.9,
          107.4,
          163.3,
          197.6,
          184.9,
          289.7,
          135.2,
          222.4,
          296.4,
          280.2,
          187.9,
          238.2,
          137.9,
          25,
          90.4,
          13.1,
          255.4,
          225.8,
          241.7,
          175.7,
          209.6,
          78.2,
          75.1,
          139.2,
          76.4,
          125.7,
          19.4,
          141.3,
          18.8,
          224,
          123.1,
          229.5,
          87.2,
          7.8,
          80.2,
          220.3,
          59.6,
          0.7,
          265.2,
          8.4,
          219.8,
          36.9,
          48.3,
          25.6,
          273.7,
          43,
          184.9,
          73.4,
          193.7,
          220.5,
          104.6,
          96.2,
          140.3,
          240.1,
          243.2,
          38,
          44.7,
          280.7,
          121,
          197.6,
          171.3,
          187.8,
          4.1,
          93.9,
          149.8,
          11.7,
          131.7,
          172.5,
          85.7,
          188.4,
          163.5,
          117.2,
          234.5,
          17.9,
          206.8,
          215.4,
          284.3,
          50,
          164.5,
          19.6,
          168.4,
          222.4,
          276.9,
          248.4,
          170.2,
          276.7,
          165.6,
          156.6,
          218.5,
          56.2,
          287.6,
          253.8,
          205,
          139.5,
          191.1,
          286,
          18.7,
          39.5,
          75.5,
          17.2,
          166.8,
          149.7,
          38.2,
          94.2,
          177,
          283.6,
          232.1
         ],
         "y": [
          37.8,
          39.3,
          45.9,
          41.3,
          10.8,
          48.9,
          32.8,
          19.6,
          2.1,
          2.6,
          5.8,
          24,
          35.1,
          7.6,
          32.9,
          47.7,
          36.6,
          39.6,
          20.5,
          23.9,
          27.7,
          5.1,
          15.9,
          16.9,
          12.6,
          3.5,
          29.3,
          16.7,
          27.1,
          16,
          28.3,
          17.4,
          1.5,
          20,
          1.4,
          4.1,
          43.8,
          49.4,
          26.7,
          37.7,
          22.3,
          33.4,
          27.7,
          8.4,
          25.7,
          22.5,
          9.9,
          41.5,
          15.8,
          11.7,
          3.1,
          9.6,
          41.7,
          46.2,
          28.8,
          49.4,
          28.1,
          19.2,
          49.6,
          29.5,
          2,
          42.7,
          15.5,
          29.6,
          42.8,
          9.3,
          24.6,
          14.5,
          27.5,
          43.9,
          30.6,
          14.3,
          33,
          5.7,
          24.6,
          43.7,
          1.6,
          28.5,
          29.9,
          7.7,
          26.7,
          4.1,
          20.3,
          44.5,
          43,
          18.4,
          27.5,
          40.6,
          25.5,
          47.8,
          4.9,
          1.5,
          33.5,
          36.5,
          14,
          31.6,
          3.5,
          21,
          42.3,
          41.7,
          4.3,
          36.3,
          10.1,
          17.2,
          34.3,
          46.4,
          11,
          0.3,
          0.4,
          26.9,
          8.2,
          38,
          15.4,
          20.6,
          46.8,
          35,
          14.3,
          0.8,
          36.9,
          16,
          26.8,
          21.7,
          2.4,
          34.6,
          32.3,
          11.8,
          38.9,
          0,
          49,
          12,
          39.6,
          2.9,
          27.2,
          33.5,
          38.6,
          47,
          39,
          28.9,
          25.9,
          43.9,
          17,
          35.4,
          33.2,
          5.7,
          14.8,
          1.9,
          7.3,
          49,
          40.3,
          25.8,
          13.9,
          8.4,
          23.3,
          39.7,
          21.1,
          11.6,
          43.5,
          1.3,
          36.9,
          18.4,
          18.1,
          35.8,
          18.1,
          36.8,
          14.7,
          3.4,
          37.6,
          5.2,
          23.6,
          10.6,
          11.6,
          20.9,
          20.1,
          7.1,
          3.4,
          48.9,
          30.2,
          7.8,
          2.3,
          10,
          2.6,
          5.4,
          5.7,
          43,
          21.3,
          45.1,
          2.1,
          28.7,
          13.9,
          12.1,
          41.1,
          10.8,
          4.1,
          42,
          35.6,
          3.7,
          4.9,
          9.3,
          42,
          8.6
         ],
         "z": [
          69.2,
          45.1,
          69.3,
          58.5,
          58.4,
          75,
          23.5,
          11.6,
          1,
          21.2,
          24.2,
          4,
          65.9,
          7.2,
          46,
          52.9,
          114,
          55.8,
          18.3,
          19.1,
          53.4,
          23.5,
          49.6,
          26.2,
          18.3,
          19.5,
          12.6,
          22.9,
          22.9,
          40.8,
          43.2,
          38.6,
          30,
          0.3,
          7.4,
          8.5,
          5,
          45.7,
          35.1,
          32,
          31.6,
          38.7,
          1.8,
          26.4,
          43.3,
          31.5,
          35.7,
          18.5,
          49.9,
          36.8,
          34.6,
          3.6,
          39.6,
          58.7,
          15.9,
          60,
          41.4,
          16.6,
          37.7,
          9.3,
          21.4,
          54.7,
          27.3,
          8.4,
          28.9,
          0.9,
          2.2,
          10.2,
          11,
          27.2,
          38.7,
          31.7,
          19.3,
          31.3,
          13.1,
          89.4,
          20.7,
          14.2,
          9.4,
          23.1,
          22.3,
          36.9,
          32.5,
          35.6,
          33.8,
          65.7,
          16,
          63.2,
          73.4,
          51.4,
          9.3,
          33,
          59,
          72.3,
          10.9,
          52.9,
          5.9,
          22,
          51.2,
          45.9,
          49.8,
          100.9,
          21.4,
          17.9,
          5.3,
          59,
          29.7,
          23.2,
          25.6,
          5.5,
          56.5,
          23.2,
          2.4,
          10.7,
          34.5,
          52.7,
          25.6,
          14.8,
          79.2,
          22.3,
          46.2,
          50.4,
          15.6,
          12.4,
          74.2,
          25.9,
          50.6,
          9.2,
          3.2,
          43.1,
          8.7,
          43,
          2.1,
          45.1,
          65.6,
          8.5,
          9.3,
          59.7,
          20.5,
          1.7,
          12.9,
          75.6,
          37.9,
          34.4,
          38.9,
          9,
          8.7,
          44.3,
          11.9,
          20.6,
          37,
          48.7,
          14.2,
          37.7,
          9.5,
          5.7,
          50.5,
          24.3,
          45.2,
          34.6,
          30.7,
          49.3,
          25.6,
          7.4,
          5.4,
          84.8,
          21.6,
          19.4,
          57.6,
          6.4,
          18.4,
          47.4,
          17,
          12.8,
          13.1,
          41.8,
          20.3,
          35.2,
          23.7,
          17.6,
          8.3,
          27.4,
          29.7,
          71.8,
          30,
          19.6,
          26.6,
          18.2,
          3.7,
          23.4,
          5.8,
          6,
          31.6,
          3.6,
          6,
          13.8,
          8.1,
          6.4,
          66.2,
          8.7
         ]
        }
       ],
       "layout": {
        "legend": {
         "tracegroupgap": 0
        },
        "margin": {
         "t": 60
        },
        "scene": {
         "domain": {
          "x": [
           0,
           1
          ],
          "y": [
           0,
           1
          ]
         },
         "xaxis": {
          "title": {
           "text": "x"
          }
         },
         "yaxis": {
          "title": {
           "text": "y"
          }
         },
         "zaxis": {
          "title": {
           "text": "z"
          }
         }
        },
        "template": {
         "data": {
          "bar": [
           {
            "error_x": {
             "color": "#2a3f5f"
            },
            "error_y": {
             "color": "#2a3f5f"
            },
            "marker": {
             "line": {
              "color": "#E5ECF6",
              "width": 0.5
             },
             "pattern": {
              "fillmode": "overlay",
              "size": 10,
              "solidity": 0.2
             }
            },
            "type": "bar"
           }
          ],
          "barpolar": [
           {
            "marker": {
             "line": {
              "color": "#E5ECF6",
              "width": 0.5
             },
             "pattern": {
              "fillmode": "overlay",
              "size": 10,
              "solidity": 0.2
             }
            },
            "type": "barpolar"
           }
          ],
          "carpet": [
           {
            "aaxis": {
             "endlinecolor": "#2a3f5f",
             "gridcolor": "white",
             "linecolor": "white",
             "minorgridcolor": "white",
             "startlinecolor": "#2a3f5f"
            },
            "baxis": {
             "endlinecolor": "#2a3f5f",
             "gridcolor": "white",
             "linecolor": "white",
             "minorgridcolor": "white",
             "startlinecolor": "#2a3f5f"
            },
            "type": "carpet"
           }
          ],
          "choropleth": [
           {
            "colorbar": {
             "outlinewidth": 0,
             "ticks": ""
            },
            "type": "choropleth"
           }
          ],
          "contour": [
           {
            "colorbar": {
             "outlinewidth": 0,
             "ticks": ""
            },
            "colorscale": [
             [
              0,
              "#0d0887"
             ],
             [
              0.1111111111111111,
              "#46039f"
             ],
             [
              0.2222222222222222,
              "#7201a8"
             ],
             [
              0.3333333333333333,
              "#9c179e"
             ],
             [
              0.4444444444444444,
              "#bd3786"
             ],
             [
              0.5555555555555556,
              "#d8576b"
             ],
             [
              0.6666666666666666,
              "#ed7953"
             ],
             [
              0.7777777777777778,
              "#fb9f3a"
             ],
             [
              0.8888888888888888,
              "#fdca26"
             ],
             [
              1,
              "#f0f921"
             ]
            ],
            "type": "contour"
           }
          ],
          "contourcarpet": [
           {
            "colorbar": {
             "outlinewidth": 0,
             "ticks": ""
            },
            "type": "contourcarpet"
           }
          ],
          "heatmap": [
           {
            "colorbar": {
             "outlinewidth": 0,
             "ticks": ""
            },
            "colorscale": [
             [
              0,
              "#0d0887"
             ],
             [
              0.1111111111111111,
              "#46039f"
             ],
             [
              0.2222222222222222,
              "#7201a8"
             ],
             [
              0.3333333333333333,
              "#9c179e"
             ],
             [
              0.4444444444444444,
              "#bd3786"
             ],
             [
              0.5555555555555556,
              "#d8576b"
             ],
             [
              0.6666666666666666,
              "#ed7953"
             ],
             [
              0.7777777777777778,
              "#fb9f3a"
             ],
             [
              0.8888888888888888,
              "#fdca26"
             ],
             [
              1,
              "#f0f921"
             ]
            ],
            "type": "heatmap"
           }
          ],
          "heatmapgl": [
           {
            "colorbar": {
             "outlinewidth": 0,
             "ticks": ""
            },
            "colorscale": [
             [
              0,
              "#0d0887"
             ],
             [
              0.1111111111111111,
              "#46039f"
             ],
             [
              0.2222222222222222,
              "#7201a8"
             ],
             [
              0.3333333333333333,
              "#9c179e"
             ],
             [
              0.4444444444444444,
              "#bd3786"
             ],
             [
              0.5555555555555556,
              "#d8576b"
             ],
             [
              0.6666666666666666,
              "#ed7953"
             ],
             [
              0.7777777777777778,
              "#fb9f3a"
             ],
             [
              0.8888888888888888,
              "#fdca26"
             ],
             [
              1,
              "#f0f921"
             ]
            ],
            "type": "heatmapgl"
           }
          ],
          "histogram": [
           {
            "marker": {
             "pattern": {
              "fillmode": "overlay",
              "size": 10,
              "solidity": 0.2
             }
            },
            "type": "histogram"
           }
          ],
          "histogram2d": [
           {
            "colorbar": {
             "outlinewidth": 0,
             "ticks": ""
            },
            "colorscale": [
             [
              0,
              "#0d0887"
             ],
             [
              0.1111111111111111,
              "#46039f"
             ],
             [
              0.2222222222222222,
              "#7201a8"
             ],
             [
              0.3333333333333333,
              "#9c179e"
             ],
             [
              0.4444444444444444,
              "#bd3786"
             ],
             [
              0.5555555555555556,
              "#d8576b"
             ],
             [
              0.6666666666666666,
              "#ed7953"
             ],
             [
              0.7777777777777778,
              "#fb9f3a"
             ],
             [
              0.8888888888888888,
              "#fdca26"
             ],
             [
              1,
              "#f0f921"
             ]
            ],
            "type": "histogram2d"
           }
          ],
          "histogram2dcontour": [
           {
            "colorbar": {
             "outlinewidth": 0,
             "ticks": ""
            },
            "colorscale": [
             [
              0,
              "#0d0887"
             ],
             [
              0.1111111111111111,
              "#46039f"
             ],
             [
              0.2222222222222222,
              "#7201a8"
             ],
             [
              0.3333333333333333,
              "#9c179e"
             ],
             [
              0.4444444444444444,
              "#bd3786"
             ],
             [
              0.5555555555555556,
              "#d8576b"
             ],
             [
              0.6666666666666666,
              "#ed7953"
             ],
             [
              0.7777777777777778,
              "#fb9f3a"
             ],
             [
              0.8888888888888888,
              "#fdca26"
             ],
             [
              1,
              "#f0f921"
             ]
            ],
            "type": "histogram2dcontour"
           }
          ],
          "mesh3d": [
           {
            "colorbar": {
             "outlinewidth": 0,
             "ticks": ""
            },
            "type": "mesh3d"
           }
          ],
          "parcoords": [
           {
            "line": {
             "colorbar": {
              "outlinewidth": 0,
              "ticks": ""
             }
            },
            "type": "parcoords"
           }
          ],
          "pie": [
           {
            "automargin": true,
            "type": "pie"
           }
          ],
          "scatter": [
           {
            "fillpattern": {
             "fillmode": "overlay",
             "size": 10,
             "solidity": 0.2
            },
            "type": "scatter"
           }
          ],
          "scatter3d": [
           {
            "line": {
             "colorbar": {
              "outlinewidth": 0,
              "ticks": ""
             }
            },
            "marker": {
             "colorbar": {
              "outlinewidth": 0,
              "ticks": ""
             }
            },
            "type": "scatter3d"
           }
          ],
          "scattercarpet": [
           {
            "marker": {
             "colorbar": {
              "outlinewidth": 0,
              "ticks": ""
             }
            },
            "type": "scattercarpet"
           }
          ],
          "scattergeo": [
           {
            "marker": {
             "colorbar": {
              "outlinewidth": 0,
              "ticks": ""
             }
            },
            "type": "scattergeo"
           }
          ],
          "scattergl": [
           {
            "marker": {
             "colorbar": {
              "outlinewidth": 0,
              "ticks": ""
             }
            },
            "type": "scattergl"
           }
          ],
          "scattermapbox": [
           {
            "marker": {
             "colorbar": {
              "outlinewidth": 0,
              "ticks": ""
             }
            },
            "type": "scattermapbox"
           }
          ],
          "scatterpolar": [
           {
            "marker": {
             "colorbar": {
              "outlinewidth": 0,
              "ticks": ""
             }
            },
            "type": "scatterpolar"
           }
          ],
          "scatterpolargl": [
           {
            "marker": {
             "colorbar": {
              "outlinewidth": 0,
              "ticks": ""
             }
            },
            "type": "scatterpolargl"
           }
          ],
          "scatterternary": [
           {
            "marker": {
             "colorbar": {
              "outlinewidth": 0,
              "ticks": ""
             }
            },
            "type": "scatterternary"
           }
          ],
          "surface": [
           {
            "colorbar": {
             "outlinewidth": 0,
             "ticks": ""
            },
            "colorscale": [
             [
              0,
              "#0d0887"
             ],
             [
              0.1111111111111111,
              "#46039f"
             ],
             [
              0.2222222222222222,
              "#7201a8"
             ],
             [
              0.3333333333333333,
              "#9c179e"
             ],
             [
              0.4444444444444444,
              "#bd3786"
             ],
             [
              0.5555555555555556,
              "#d8576b"
             ],
             [
              0.6666666666666666,
              "#ed7953"
             ],
             [
              0.7777777777777778,
              "#fb9f3a"
             ],
             [
              0.8888888888888888,
              "#fdca26"
             ],
             [
              1,
              "#f0f921"
             ]
            ],
            "type": "surface"
           }
          ],
          "table": [
           {
            "cells": {
             "fill": {
              "color": "#EBF0F8"
             },
             "line": {
              "color": "white"
             }
            },
            "header": {
             "fill": {
              "color": "#C8D4E3"
             },
             "line": {
              "color": "white"
             }
            },
            "type": "table"
           }
          ]
         },
         "layout": {
          "annotationdefaults": {
           "arrowcolor": "#2a3f5f",
           "arrowhead": 0,
           "arrowwidth": 1
          },
          "autotypenumbers": "strict",
          "coloraxis": {
           "colorbar": {
            "outlinewidth": 0,
            "ticks": ""
           }
          },
          "colorscale": {
           "diverging": [
            [
             0,
             "#8e0152"
            ],
            [
             0.1,
             "#c51b7d"
            ],
            [
             0.2,
             "#de77ae"
            ],
            [
             0.3,
             "#f1b6da"
            ],
            [
             0.4,
             "#fde0ef"
            ],
            [
             0.5,
             "#f7f7f7"
            ],
            [
             0.6,
             "#e6f5d0"
            ],
            [
             0.7,
             "#b8e186"
            ],
            [
             0.8,
             "#7fbc41"
            ],
            [
             0.9,
             "#4d9221"
            ],
            [
             1,
             "#276419"
            ]
           ],
           "sequential": [
            [
             0,
             "#0d0887"
            ],
            [
             0.1111111111111111,
             "#46039f"
            ],
            [
             0.2222222222222222,
             "#7201a8"
            ],
            [
             0.3333333333333333,
             "#9c179e"
            ],
            [
             0.4444444444444444,
             "#bd3786"
            ],
            [
             0.5555555555555556,
             "#d8576b"
            ],
            [
             0.6666666666666666,
             "#ed7953"
            ],
            [
             0.7777777777777778,
             "#fb9f3a"
            ],
            [
             0.8888888888888888,
             "#fdca26"
            ],
            [
             1,
             "#f0f921"
            ]
           ],
           "sequentialminus": [
            [
             0,
             "#0d0887"
            ],
            [
             0.1111111111111111,
             "#46039f"
            ],
            [
             0.2222222222222222,
             "#7201a8"
            ],
            [
             0.3333333333333333,
             "#9c179e"
            ],
            [
             0.4444444444444444,
             "#bd3786"
            ],
            [
             0.5555555555555556,
             "#d8576b"
            ],
            [
             0.6666666666666666,
             "#ed7953"
            ],
            [
             0.7777777777777778,
             "#fb9f3a"
            ],
            [
             0.8888888888888888,
             "#fdca26"
            ],
            [
             1,
             "#f0f921"
            ]
           ]
          },
          "colorway": [
           "#636efa",
           "#EF553B",
           "#00cc96",
           "#ab63fa",
           "#FFA15A",
           "#19d3f3",
           "#FF6692",
           "#B6E880",
           "#FF97FF",
           "#FECB52"
          ],
          "font": {
           "color": "#2a3f5f"
          },
          "geo": {
           "bgcolor": "white",
           "lakecolor": "white",
           "landcolor": "#E5ECF6",
           "showlakes": true,
           "showland": true,
           "subunitcolor": "white"
          },
          "hoverlabel": {
           "align": "left"
          },
          "hovermode": "closest",
          "mapbox": {
           "style": "light"
          },
          "paper_bgcolor": "white",
          "plot_bgcolor": "#E5ECF6",
          "polar": {
           "angularaxis": {
            "gridcolor": "white",
            "linecolor": "white",
            "ticks": ""
           },
           "bgcolor": "#E5ECF6",
           "radialaxis": {
            "gridcolor": "white",
            "linecolor": "white",
            "ticks": ""
           }
          },
          "scene": {
           "xaxis": {
            "backgroundcolor": "#E5ECF6",
            "gridcolor": "white",
            "gridwidth": 2,
            "linecolor": "white",
            "showbackground": true,
            "ticks": "",
            "zerolinecolor": "white"
           },
           "yaxis": {
            "backgroundcolor": "#E5ECF6",
            "gridcolor": "white",
            "gridwidth": 2,
            "linecolor": "white",
            "showbackground": true,
            "ticks": "",
            "zerolinecolor": "white"
           },
           "zaxis": {
            "backgroundcolor": "#E5ECF6",
            "gridcolor": "white",
            "gridwidth": 2,
            "linecolor": "white",
            "showbackground": true,
            "ticks": "",
            "zerolinecolor": "white"
           }
          },
          "shapedefaults": {
           "line": {
            "color": "#2a3f5f"
           }
          },
          "ternary": {
           "aaxis": {
            "gridcolor": "white",
            "linecolor": "white",
            "ticks": ""
           },
           "baxis": {
            "gridcolor": "white",
            "linecolor": "white",
            "ticks": ""
           },
           "bgcolor": "#E5ECF6",
           "caxis": {
            "gridcolor": "white",
            "linecolor": "white",
            "ticks": ""
           }
          },
          "title": {
           "x": 0.05
          },
          "xaxis": {
           "automargin": true,
           "gridcolor": "white",
           "linecolor": "white",
           "ticks": "",
           "title": {
            "standoff": 15
           },
           "zerolinecolor": "white",
           "zerolinewidth": 2
          },
          "yaxis": {
           "automargin": true,
           "gridcolor": "white",
           "linecolor": "white",
           "ticks": "",
           "title": {
            "standoff": 15
           },
           "zerolinecolor": "white",
           "zerolinewidth": 2
          }
         }
        }
       }
      }
     },
     "metadata": {},
     "output_type": "display_data"
    }
   ],
   "source": [
    "px.scatter_3d(x=X['TV'], y=X['Radio'], z=X['Newspaper'])"
   ]
  },
  {
   "cell_type": "code",
   "execution_count": 6,
   "metadata": {},
   "outputs": [],
   "source": [
    "X_train, X_test , y_train , y_test = train_test_split(X,y,test_size=0.2,random_state=42)"
   ]
  },
  {
   "cell_type": "code",
   "execution_count": 7,
   "metadata": {},
   "outputs": [],
   "source": [
    "lr_model = LinearRegression()\n",
    "lr_model.fit(X_train, y_train)\n",
    "y_predicted = lr_model.predict(X_test)"
   ]
  },
  {
   "cell_type": "code",
   "execution_count": 8,
   "metadata": {},
   "outputs": [
    {
     "data": {
      "text/plain": [
       "0.9059011844150826"
      ]
     },
     "execution_count": 8,
     "metadata": {},
     "output_type": "execute_result"
    }
   ],
   "source": [
    "r2_score(y_test,y_predicted)"
   ]
  },
  {
   "cell_type": "markdown",
   "metadata": {},
   "source": [
    "## Steps for PCA\n",
    "1. Mean centring of data\n",
    "2. Covariance matrix\n",
    "3. eigen value and eigen vectors\n",
    "4. transform original data"
   ]
  },
  {
   "cell_type": "code",
   "execution_count": 9,
   "metadata": {},
   "outputs": [],
   "source": [
    "# step 1 mean centring\n",
    "scaler = StandardScaler()\n",
    "df.iloc[:,0:3] = scaler.fit_transform(df.iloc[:,0:3])"
   ]
  },
  {
   "cell_type": "code",
   "execution_count": 10,
   "metadata": {},
   "outputs": [
    {
     "data": {
      "text/plain": [
       "array([[1.        , 0.05480866, 0.05664787],\n",
       "       [0.05480866, 1.        , 0.35410375],\n",
       "       [0.05664787, 0.35410375, 1.        ]])"
      ]
     },
     "execution_count": 10,
     "metadata": {},
     "output_type": "execute_result"
    }
   ],
   "source": [
    "# step 2 covariance matrix\n",
    "covariance_matrix = np.corrcoef([df.iloc[:,0], df.iloc[:,1], df.iloc[:,2]])\n",
    "covariance_matrix"
   ]
  },
  {
   "cell_type": "code",
   "execution_count": 11,
   "metadata": {},
   "outputs": [],
   "source": [
    "# step 3 find eigen values and eigen vectors\n",
    "eigen_values, eigen_vectors = np.linalg.eig(covariance_matrix)"
   ]
  },
  {
   "cell_type": "code",
   "execution_count": 12,
   "metadata": {},
   "outputs": [
    {
     "data": {
      "text/plain": [
       "array([1.37085251, 0.98325614, 0.64589135])"
      ]
     },
     "execution_count": 12,
     "metadata": {},
     "output_type": "execute_result"
    }
   ],
   "source": [
    "eigen_values"
   ]
  },
  {
   "cell_type": "code",
   "execution_count": 13,
   "metadata": {},
   "outputs": [
    {
     "data": {
      "text/plain": [
       "2.9999999999999996"
      ]
     },
     "execution_count": 13,
     "metadata": {},
     "output_type": "execute_result"
    }
   ],
   "source": [
    "1.37085251 + 0.98325614 + 0.64589135"
   ]
  },
  {
   "cell_type": "code",
   "execution_count": 14,
   "metadata": {},
   "outputs": [
    {
     "data": {
      "text/plain": [
       "array([[ 0.20787391,  0.97814838, -0.0037659 ],\n",
       "       [ 0.69139674, -0.14965532, -0.70680537],\n",
       "       [ 0.69192412, -0.14432267,  0.70739804]])"
      ]
     },
     "execution_count": 14,
     "metadata": {},
     "output_type": "execute_result"
    }
   ],
   "source": [
    "eigen_vectors"
   ]
  },
  {
   "cell_type": "code",
   "execution_count": 34,
   "metadata": {},
   "outputs": [
    {
     "data": {
      "text/plain": [
       "array([[ 0.20787391,  0.97814838, -0.0037659 ],\n",
       "       [ 0.69139674, -0.14965532, -0.70680537],\n",
       "       [ 0.69192412, -0.14432267,  0.70739804]])"
      ]
     },
     "execution_count": 34,
     "metadata": {},
     "output_type": "execute_result"
    }
   ],
   "source": [
    "# assume we want aur original data in 2d so we will select top 2 eigen vectors\n",
    "pc = eigen_vectors[:3]\n",
    "pc"
   ]
  },
  {
   "cell_type": "code",
   "execution_count": 35,
   "metadata": {},
   "outputs": [
    {
     "name": "stdout",
     "output_type": "stream",
     "text": [
      "(200, 3)\n",
      "(3, 3)\n"
     ]
    }
   ],
   "source": [
    "print(df.iloc[:,0:3].shape)\n",
    "print(pc.shape)"
   ]
  },
  {
   "cell_type": "code",
   "execution_count": 37,
   "metadata": {},
   "outputs": [
    {
     "data": {
      "text/html": [
       "<div>\n",
       "<style scoped>\n",
       "    .dataframe tbody tr th:only-of-type {\n",
       "        vertical-align: middle;\n",
       "    }\n",
       "\n",
       "    .dataframe tbody tr th {\n",
       "        vertical-align: top;\n",
       "    }\n",
       "\n",
       "    .dataframe thead th {\n",
       "        text-align: right;\n",
       "    }\n",
       "</style>\n",
       "<table border=\"1\" class=\"dataframe\">\n",
       "  <thead>\n",
       "    <tr style=\"text-align: right;\">\n",
       "      <th></th>\n",
       "      <th>TV</th>\n",
       "      <th>Radio</th>\n",
       "      <th>Newspaper</th>\n",
       "    </tr>\n",
       "  </thead>\n",
       "  <tbody>\n",
       "    <tr>\n",
       "      <th>0</th>\n",
       "      <td>0.969852</td>\n",
       "      <td>0.981522</td>\n",
       "      <td>1.778945</td>\n",
       "    </tr>\n",
       "    <tr>\n",
       "      <th>1</th>\n",
       "      <td>-1.197376</td>\n",
       "      <td>1.082808</td>\n",
       "      <td>0.669579</td>\n",
       "    </tr>\n",
       "    <tr>\n",
       "      <th>2</th>\n",
       "      <td>-1.516155</td>\n",
       "      <td>1.528463</td>\n",
       "      <td>1.783549</td>\n",
       "    </tr>\n",
       "    <tr>\n",
       "      <th>3</th>\n",
       "      <td>0.052050</td>\n",
       "      <td>1.217855</td>\n",
       "      <td>1.286405</td>\n",
       "    </tr>\n",
       "    <tr>\n",
       "      <th>4</th>\n",
       "      <td>0.394182</td>\n",
       "      <td>-0.841614</td>\n",
       "      <td>1.281802</td>\n",
       "    </tr>\n",
       "    <tr>\n",
       "      <th>...</th>\n",
       "      <td>...</td>\n",
       "      <td>...</td>\n",
       "      <td>...</td>\n",
       "    </tr>\n",
       "    <tr>\n",
       "      <th>195</th>\n",
       "      <td>-1.270941</td>\n",
       "      <td>-1.321031</td>\n",
       "      <td>-0.771217</td>\n",
       "    </tr>\n",
       "    <tr>\n",
       "      <th>196</th>\n",
       "      <td>-0.617035</td>\n",
       "      <td>-1.240003</td>\n",
       "      <td>-1.033598</td>\n",
       "    </tr>\n",
       "    <tr>\n",
       "      <th>197</th>\n",
       "      <td>0.349810</td>\n",
       "      <td>-0.942899</td>\n",
       "      <td>-1.111852</td>\n",
       "    </tr>\n",
       "    <tr>\n",
       "      <th>198</th>\n",
       "      <td>1.594565</td>\n",
       "      <td>1.265121</td>\n",
       "      <td>1.640850</td>\n",
       "    </tr>\n",
       "    <tr>\n",
       "      <th>199</th>\n",
       "      <td>0.993206</td>\n",
       "      <td>-0.990165</td>\n",
       "      <td>-1.005979</td>\n",
       "    </tr>\n",
       "  </tbody>\n",
       "</table>\n",
       "<p>200 rows × 3 columns</p>\n",
       "</div>"
      ],
      "text/plain": [
       "           TV     Radio  Newspaper\n",
       "0    0.969852  0.981522   1.778945\n",
       "1   -1.197376  1.082808   0.669579\n",
       "2   -1.516155  1.528463   1.783549\n",
       "3    0.052050  1.217855   1.286405\n",
       "4    0.394182 -0.841614   1.281802\n",
       "..        ...       ...        ...\n",
       "195 -1.270941 -1.321031  -0.771217\n",
       "196 -0.617035 -1.240003  -1.033598\n",
       "197  0.349810 -0.942899  -1.111852\n",
       "198  1.594565  1.265121   1.640850\n",
       "199  0.993206 -0.990165  -1.005979\n",
       "\n",
       "[200 rows x 3 columns]"
      ]
     },
     "execution_count": 37,
     "metadata": {},
     "output_type": "execute_result"
    }
   ],
   "source": [
    "df.iloc[:,0:3]"
   ]
  },
  {
   "cell_type": "code",
   "execution_count": 40,
   "metadata": {},
   "outputs": [
    {
     "data": {
      "text/html": [
       "<div>\n",
       "<style scoped>\n",
       "    .dataframe tbody tr th:only-of-type {\n",
       "        vertical-align: middle;\n",
       "    }\n",
       "\n",
       "    .dataframe tbody tr th {\n",
       "        vertical-align: top;\n",
       "    }\n",
       "\n",
       "    .dataframe thead th {\n",
       "        text-align: right;\n",
       "    }\n",
       "</style>\n",
       "<table border=\"1\" class=\"dataframe\">\n",
       "  <thead>\n",
       "    <tr style=\"text-align: right;\">\n",
       "      <th></th>\n",
       "      <th>PC1</th>\n",
       "      <th>PC2</th>\n",
       "      <th>PC3</th>\n",
       "      <th>Sales</th>\n",
       "    </tr>\n",
       "  </thead>\n",
       "  <tbody>\n",
       "    <tr>\n",
       "      <th>0</th>\n",
       "      <td>1.154982</td>\n",
       "      <td>-0.733706</td>\n",
       "      <td>1.787831</td>\n",
       "      <td>22.1</td>\n",
       "    </tr>\n",
       "    <tr>\n",
       "      <th>1</th>\n",
       "      <td>0.807722</td>\n",
       "      <td>-1.463172</td>\n",
       "      <td>-0.511109</td>\n",
       "      <td>10.4</td>\n",
       "    </tr>\n",
       "    <tr>\n",
       "      <th>2</th>\n",
       "      <td>1.173178</td>\n",
       "      <td>-2.537629</td>\n",
       "      <td>-0.007977</td>\n",
       "      <td>12.0</td>\n",
       "    </tr>\n",
       "    <tr>\n",
       "      <th>3</th>\n",
       "      <td>1.197218</td>\n",
       "      <td>-1.055509</td>\n",
       "      <td>0.770251</td>\n",
       "      <td>16.5</td>\n",
       "    </tr>\n",
       "    <tr>\n",
       "      <th>4</th>\n",
       "      <td>-0.746110</td>\n",
       "      <td>-0.507496</td>\n",
       "      <td>1.300952</td>\n",
       "      <td>17.9</td>\n",
       "    </tr>\n",
       "    <tr>\n",
       "      <th>...</th>\n",
       "      <td>...</td>\n",
       "      <td>...</td>\n",
       "      <td>...</td>\n",
       "      <td>...</td>\n",
       "    </tr>\n",
       "    <tr>\n",
       "      <th>195</th>\n",
       "      <td>-1.553455</td>\n",
       "      <td>-0.135925</td>\n",
       "      <td>-1.234297</td>\n",
       "      <td>7.6</td>\n",
       "    </tr>\n",
       "    <tr>\n",
       "      <th>196</th>\n",
       "      <td>-1.337280</td>\n",
       "      <td>0.489510</td>\n",
       "      <td>-0.979147</td>\n",
       "      <td>14.0</td>\n",
       "    </tr>\n",
       "    <tr>\n",
       "      <th>197</th>\n",
       "      <td>-0.845392</td>\n",
       "      <td>1.168831</td>\n",
       "      <td>-0.408399</td>\n",
       "      <td>14.8</td>\n",
       "    </tr>\n",
       "    <tr>\n",
       "      <th>198</th>\n",
       "      <td>1.562766</td>\n",
       "      <td>-0.246617</td>\n",
       "      <td>2.081467</td>\n",
       "      <td>25.5</td>\n",
       "    </tr>\n",
       "    <tr>\n",
       "      <th>199</th>\n",
       "      <td>-0.758279</td>\n",
       "      <td>1.545914</td>\n",
       "      <td>0.118499</td>\n",
       "      <td>18.4</td>\n",
       "    </tr>\n",
       "  </tbody>\n",
       "</table>\n",
       "<p>200 rows × 4 columns</p>\n",
       "</div>"
      ],
      "text/plain": [
       "          PC1       PC2       PC3  Sales\n",
       "0    1.154982 -0.733706  1.787831   22.1\n",
       "1    0.807722 -1.463172 -0.511109   10.4\n",
       "2    1.173178 -2.537629 -0.007977   12.0\n",
       "3    1.197218 -1.055509  0.770251   16.5\n",
       "4   -0.746110 -0.507496  1.300952   17.9\n",
       "..        ...       ...       ...    ...\n",
       "195 -1.553455 -0.135925 -1.234297    7.6\n",
       "196 -1.337280  0.489510 -0.979147   14.0\n",
       "197 -0.845392  1.168831 -0.408399   14.8\n",
       "198  1.562766 -0.246617  2.081467   25.5\n",
       "199 -0.758279  1.545914  0.118499   18.4\n",
       "\n",
       "[200 rows x 4 columns]"
      ]
     },
     "execution_count": 40,
     "metadata": {},
     "output_type": "execute_result"
    }
   ],
   "source": [
    "transform_values = np.dot(df.iloc[:,0:3], pc.T)\n",
    "new_df = pd.DataFrame(transform_values, columns=['PC1', 'PC2',\"PC3\"])\n",
    "new_df['Sales'] = df['Sales'].values\n",
    "new_df"
   ]
  },
  {
   "cell_type": "code",
   "execution_count": 41,
   "metadata": {},
   "outputs": [],
   "source": [
    "X_new = new_df.drop(columns=\"Sales\", axis=1)\n",
    "y_new = new_df['Sales']"
   ]
  },
  {
   "cell_type": "code",
   "execution_count": 42,
   "metadata": {},
   "outputs": [],
   "source": [
    "X_new_train, X_new_test, y_new_train, y_new_test = train_test_split(X_new,y_new,test_size=0.2,\n",
    "                                                                    random_state=42)"
   ]
  },
  {
   "cell_type": "code",
   "execution_count": 43,
   "metadata": {},
   "outputs": [
    {
     "data": {
      "text/plain": [
       "0.9059011844150825"
      ]
     },
     "execution_count": 43,
     "metadata": {},
     "output_type": "execute_result"
    }
   ],
   "source": [
    "lr_model2 = LinearRegression()\n",
    "lr_model2.fit(X_new_train,y_new_train)\n",
    "y_new_predicted = lr_model2.predict(X_new_test)\n",
    "r2_score(y_new_test, y_new_predicted)"
   ]
  },
  {
   "cell_type": "code",
   "execution_count": 22,
   "metadata": {},
   "outputs": [],
   "source": [
    "X = df.drop(columns='Sales', axis=1)\n",
    "y = df['Sales']"
   ]
  },
  {
   "cell_type": "code",
   "execution_count": 23,
   "metadata": {},
   "outputs": [
    {
     "data": {
      "text/html": [
       "<div>\n",
       "<style scoped>\n",
       "    .dataframe tbody tr th:only-of-type {\n",
       "        vertical-align: middle;\n",
       "    }\n",
       "\n",
       "    .dataframe tbody tr th {\n",
       "        vertical-align: top;\n",
       "    }\n",
       "\n",
       "    .dataframe thead th {\n",
       "        text-align: right;\n",
       "    }\n",
       "</style>\n",
       "<table border=\"1\" class=\"dataframe\">\n",
       "  <thead>\n",
       "    <tr style=\"text-align: right;\">\n",
       "      <th></th>\n",
       "      <th>TV</th>\n",
       "      <th>Radio</th>\n",
       "      <th>Newspaper</th>\n",
       "    </tr>\n",
       "  </thead>\n",
       "  <tbody>\n",
       "    <tr>\n",
       "      <th>0</th>\n",
       "      <td>0.969852</td>\n",
       "      <td>0.981522</td>\n",
       "      <td>1.778945</td>\n",
       "    </tr>\n",
       "    <tr>\n",
       "      <th>1</th>\n",
       "      <td>-1.197376</td>\n",
       "      <td>1.082808</td>\n",
       "      <td>0.669579</td>\n",
       "    </tr>\n",
       "    <tr>\n",
       "      <th>2</th>\n",
       "      <td>-1.516155</td>\n",
       "      <td>1.528463</td>\n",
       "      <td>1.783549</td>\n",
       "    </tr>\n",
       "    <tr>\n",
       "      <th>3</th>\n",
       "      <td>0.052050</td>\n",
       "      <td>1.217855</td>\n",
       "      <td>1.286405</td>\n",
       "    </tr>\n",
       "    <tr>\n",
       "      <th>4</th>\n",
       "      <td>0.394182</td>\n",
       "      <td>-0.841614</td>\n",
       "      <td>1.281802</td>\n",
       "    </tr>\n",
       "    <tr>\n",
       "      <th>...</th>\n",
       "      <td>...</td>\n",
       "      <td>...</td>\n",
       "      <td>...</td>\n",
       "    </tr>\n",
       "    <tr>\n",
       "      <th>195</th>\n",
       "      <td>-1.270941</td>\n",
       "      <td>-1.321031</td>\n",
       "      <td>-0.771217</td>\n",
       "    </tr>\n",
       "    <tr>\n",
       "      <th>196</th>\n",
       "      <td>-0.617035</td>\n",
       "      <td>-1.240003</td>\n",
       "      <td>-1.033598</td>\n",
       "    </tr>\n",
       "    <tr>\n",
       "      <th>197</th>\n",
       "      <td>0.349810</td>\n",
       "      <td>-0.942899</td>\n",
       "      <td>-1.111852</td>\n",
       "    </tr>\n",
       "    <tr>\n",
       "      <th>198</th>\n",
       "      <td>1.594565</td>\n",
       "      <td>1.265121</td>\n",
       "      <td>1.640850</td>\n",
       "    </tr>\n",
       "    <tr>\n",
       "      <th>199</th>\n",
       "      <td>0.993206</td>\n",
       "      <td>-0.990165</td>\n",
       "      <td>-1.005979</td>\n",
       "    </tr>\n",
       "  </tbody>\n",
       "</table>\n",
       "<p>200 rows × 3 columns</p>\n",
       "</div>"
      ],
      "text/plain": [
       "           TV     Radio  Newspaper\n",
       "0    0.969852  0.981522   1.778945\n",
       "1   -1.197376  1.082808   0.669579\n",
       "2   -1.516155  1.528463   1.783549\n",
       "3    0.052050  1.217855   1.286405\n",
       "4    0.394182 -0.841614   1.281802\n",
       "..        ...       ...        ...\n",
       "195 -1.270941 -1.321031  -0.771217\n",
       "196 -0.617035 -1.240003  -1.033598\n",
       "197  0.349810 -0.942899  -1.111852\n",
       "198  1.594565  1.265121   1.640850\n",
       "199  0.993206 -0.990165  -1.005979\n",
       "\n",
       "[200 rows x 3 columns]"
      ]
     },
     "execution_count": 23,
     "metadata": {},
     "output_type": "execute_result"
    }
   ],
   "source": [
    "X"
   ]
  },
  {
   "cell_type": "code",
   "execution_count": 24,
   "metadata": {},
   "outputs": [],
   "source": [
    "X_train, X_test, y_train, y_test = train_test_split(X,y,test_size=0.2, random_state=42)"
   ]
  },
  {
   "cell_type": "code",
   "execution_count": 25,
   "metadata": {},
   "outputs": [
    {
     "data": {
      "text/plain": [
       "0.6905814674328943"
      ]
     },
     "execution_count": 25,
     "metadata": {},
     "output_type": "execute_result"
    }
   ],
   "source": [
    "# now lets use scikit learn's PCA\n",
    "pca = PCA(n_components=2)\n",
    "X_train_pca = pca.fit_transform(X_train)\n",
    "X_test_pca = pca.fit_transform(X_test)\n",
    "\n",
    "# now apply linear regression\n",
    "lr_model3 = LinearRegression()\n",
    "lr_model3.fit(X_train_pca, y_train)\n",
    "y_predicted_pca = lr_model3.predict(X_test_pca)\n",
    "r2_score(y_test, y_predicted_pca)"
   ]
  },
  {
   "cell_type": "code",
   "execution_count": 26,
   "metadata": {},
   "outputs": [
    {
     "data": {
      "text/html": [
       "<div>\n",
       "<style scoped>\n",
       "    .dataframe tbody tr th:only-of-type {\n",
       "        vertical-align: middle;\n",
       "    }\n",
       "\n",
       "    .dataframe tbody tr th {\n",
       "        vertical-align: top;\n",
       "    }\n",
       "\n",
       "    .dataframe thead th {\n",
       "        text-align: right;\n",
       "    }\n",
       "</style>\n",
       "<table border=\"1\" class=\"dataframe\">\n",
       "  <thead>\n",
       "    <tr style=\"text-align: right;\">\n",
       "      <th></th>\n",
       "      <th>TV</th>\n",
       "      <th>Radio</th>\n",
       "      <th>Newspaper</th>\n",
       "    </tr>\n",
       "  </thead>\n",
       "  <tbody>\n",
       "    <tr>\n",
       "      <th>79</th>\n",
       "      <td>-0.362479</td>\n",
       "      <td>-1.050937</td>\n",
       "      <td>-0.343121</td>\n",
       "    </tr>\n",
       "    <tr>\n",
       "      <th>197</th>\n",
       "      <td>0.349810</td>\n",
       "      <td>-0.942899</td>\n",
       "      <td>-1.111852</td>\n",
       "    </tr>\n",
       "    <tr>\n",
       "      <th>38</th>\n",
       "      <td>-1.213724</td>\n",
       "      <td>0.232011</td>\n",
       "      <td>0.209261</td>\n",
       "    </tr>\n",
       "    <tr>\n",
       "      <th>24</th>\n",
       "      <td>-0.989528</td>\n",
       "      <td>-0.720071</td>\n",
       "      <td>-0.564074</td>\n",
       "    </tr>\n",
       "    <tr>\n",
       "      <th>122</th>\n",
       "      <td>0.898623</td>\n",
       "      <td>-1.408812</td>\n",
       "      <td>-0.688360</td>\n",
       "    </tr>\n",
       "    <tr>\n",
       "      <th>...</th>\n",
       "      <td>...</td>\n",
       "      <td>...</td>\n",
       "      <td>...</td>\n",
       "    </tr>\n",
       "    <tr>\n",
       "      <th>106</th>\n",
       "      <td>-1.425075</td>\n",
       "      <td>-0.828109</td>\n",
       "      <td>-0.039311</td>\n",
       "    </tr>\n",
       "    <tr>\n",
       "      <th>14</th>\n",
       "      <td>0.666253</td>\n",
       "      <td>0.650657</td>\n",
       "      <td>0.711007</td>\n",
       "    </tr>\n",
       "    <tr>\n",
       "      <th>92</th>\n",
       "      <td>0.825059</td>\n",
       "      <td>0.691171</td>\n",
       "      <td>1.309421</td>\n",
       "    </tr>\n",
       "    <tr>\n",
       "      <th>179</th>\n",
       "      <td>0.216694</td>\n",
       "      <td>-0.895633</td>\n",
       "      <td>-0.596296</td>\n",
       "    </tr>\n",
       "    <tr>\n",
       "      <th>102</th>\n",
       "      <td>1.554864</td>\n",
       "      <td>-0.888880</td>\n",
       "      <td>-0.421375</td>\n",
       "    </tr>\n",
       "  </tbody>\n",
       "</table>\n",
       "<p>160 rows × 3 columns</p>\n",
       "</div>"
      ],
      "text/plain": [
       "           TV     Radio  Newspaper\n",
       "79  -0.362479 -1.050937  -0.343121\n",
       "197  0.349810 -0.942899  -1.111852\n",
       "38  -1.213724  0.232011   0.209261\n",
       "24  -0.989528 -0.720071  -0.564074\n",
       "122  0.898623 -1.408812  -0.688360\n",
       "..        ...       ...        ...\n",
       "106 -1.425075 -0.828109  -0.039311\n",
       "14   0.666253  0.650657   0.711007\n",
       "92   0.825059  0.691171   1.309421\n",
       "179  0.216694 -0.895633  -0.596296\n",
       "102  1.554864 -0.888880  -0.421375\n",
       "\n",
       "[160 rows x 3 columns]"
      ]
     },
     "execution_count": 26,
     "metadata": {},
     "output_type": "execute_result"
    }
   ],
   "source": [
    "X_train"
   ]
  },
  {
   "cell_type": "code",
   "execution_count": 27,
   "metadata": {},
   "outputs": [
    {
     "data": {
      "text/plain": [
       "0.9059011844150826"
      ]
     },
     "execution_count": 27,
     "metadata": {},
     "output_type": "execute_result"
    }
   ],
   "source": [
    "model4 = LinearRegression()\n",
    "model4.fit(X_train,y_train)\n",
    "y_pre = model4.predict(X_test)\n",
    "r2_score(y_test,y_pre)"
   ]
  },
  {
   "cell_type": "code",
   "execution_count": null,
   "metadata": {},
   "outputs": [],
   "source": []
  }
 ],
 "metadata": {
  "kernelspec": {
   "display_name": "Python 3",
   "language": "python",
   "name": "python3"
  },
  "language_info": {
   "codemirror_mode": {
    "name": "ipython",
    "version": 3
   },
   "file_extension": ".py",
   "mimetype": "text/x-python",
   "name": "python",
   "nbconvert_exporter": "python",
   "pygments_lexer": "ipython3",
   "version": "3.11.1"
  }
 },
 "nbformat": 4,
 "nbformat_minor": 2
}
